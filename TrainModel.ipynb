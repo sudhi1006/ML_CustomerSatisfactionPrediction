{
  "nbformat": 4,
  "nbformat_minor": 0,
  "metadata": {
    "colab": {
      "name": "Final_CaseStudy1.ipynb",
      "provenance": []
    },
    "kernelspec": {
      "name": "python3",
      "display_name": "Python 3"
    },
    "language_info": {
      "name": "python"
    }
  },
  "cells": [
    {
      "cell_type": "code",
      "execution_count": null,
      "metadata": {
        "id": "6JY80AJ1F15h",
        "colab": {
          "base_uri": "https://localhost:8080/"
        },
        "outputId": "924bfe6f-5ace-40da-cb34-299dee518e99"
      },
      "outputs": [
        {
          "output_type": "stream",
          "name": "stderr",
          "text": [
            "/usr/local/lib/python3.7/dist-packages/statsmodels/tools/_testing.py:19: FutureWarning: pandas.util.testing is deprecated. Use the functions in the public API at pandas.testing instead.\n",
            "  import pandas.util.testing as tm\n"
          ]
        }
      ],
      "source": [
        "import numpy as np\n",
        "from sklearn.feature_selection import chi2\n",
        "from sklearn.preprocessing import LabelEncoder\n",
        "from sklearn.preprocessing import OrdinalEncoder\n",
        "import matplotlib.pyplot as plt\n",
        "import pandas as pd\n",
        "from itertools import accumulate\n",
        "import seaborn as sns\n",
        "from prettytable import PrettyTable\n",
        "import tqdm\n",
        "from sklearn.model_selection import train_test_split\n",
        "from sklearn.preprocessing import StandardScaler\n",
        "import plotly.express as px\n",
        "import statsmodels.api as sm\n",
        "from statsmodels.formula.api import ols\n",
        "import re\n",
        "import nltk\n",
        "from nltk.corpus import stopwords\n",
        "import spacy\n",
        "import matplotlib.pylab as plt\n",
        "import matplotlib.patches as patches\n",
        "from sklearn.metrics import roc_curve,auc\n",
        "from scipy import interp"
      ]
    },
    {
      "cell_type": "code",
      "source": [
        "def response_coding(df, feature):\n",
        "  str1=\"class_1_\"+feature\n",
        "  str2=\"class_0_\"+feature\n",
        "  unique_cat_labels = df[feature].unique()\n",
        "  row_col1 = []\n",
        "  row_col2 = []\n",
        "  row_col3 = []\n",
        "  for i in range(len(unique_cat_labels)):\n",
        "    total_count = df.loc[:,feature][(df[feature] == unique_cat_labels[i])].count()\n",
        "    p_0 = df.loc[:, feature][((df[feature] == unique_cat_labels[i]) & (df['class_label']==0))].count()\n",
        "    p_1 = df.loc[:, feature][((df[feature] == unique_cat_labels[i]) & (df['class_label']==1))].count()\n",
        "\n",
        "    row_col1.append(unique_cat_labels[i])\n",
        "    row_col2.append(p_1/total_count)\n",
        "    row_col3.append(p_0/total_count)\n",
        "  df_rc = pd.DataFrame(list(zip(row_col1, row_col2,row_col3)),\n",
        "               columns =[feature,str1,str2])\n",
        "  return df_rc"
      ],
      "metadata": {
        "id": "jxlSzs3xeq1C"
      },
      "execution_count": null,
      "outputs": []
    },
    {
      "cell_type": "code",
      "source": [
        "from google.colab import drive\n",
        "drive.mount('/content/drive')"
      ],
      "metadata": {
        "colab": {
          "base_uri": "https://localhost:8080/"
        },
        "id": "ioV4lgu8HUqm",
        "outputId": "595d7a25-f2d6-4609-be18-37b180e23b50"
      },
      "execution_count": null,
      "outputs": [
        {
          "output_type": "stream",
          "name": "stdout",
          "text": [
            "Mounted at /content/drive\n"
          ]
        }
      ]
    },
    {
      "cell_type": "code",
      "source": [
        "cd /content/drive/MyDrive/Colab Notebooks/Colab Notebooks/AppliedAI/Assign23_Self_Case_Study1/Data/"
      ],
      "metadata": {
        "colab": {
          "base_uri": "https://localhost:8080/"
        },
        "id": "pKC7kutDHdo9",
        "outputId": "e601fe86-9449-46a2-8836-f99a4cb63a9b"
      },
      "execution_count": null,
      "outputs": [
        {
          "output_type": "stream",
          "name": "stdout",
          "text": [
            "/content/drive/MyDrive/Colab Notebooks/Colab Notebooks/AppliedAI/Assign23_Self_Case_Study1/Data\n"
          ]
        }
      ]
    },
    {
      "cell_type": "code",
      "source": [
        "customers_df = pd.read_csv('olist_customers_dataset.csv')\n",
        "geolocation_df = pd.read_csv('olist_geolocation_dataset.csv')\n",
        "order_items_df = pd.read_csv('olist_order_items_dataset.csv')\n",
        "order_payments_df = pd.read_csv('olist_order_payments_dataset.csv')\n",
        "order_reviews_df = pd.read_csv('olist_order_reviews_dataset.csv')\n",
        "orders_df = pd.read_csv('olist_orders_dataset.csv')\n",
        "products_df = pd.read_csv('olist_products_dataset.csv')\n",
        "sellers_df = pd.read_csv('olist_sellers_dataset.csv')\n",
        "product_category_name_translation_df = pd.read_csv('product_category_name_translation.csv')"
      ],
      "metadata": {
        "id": "uRQ1_1YPHi7F"
      },
      "execution_count": null,
      "outputs": []
    },
    {
      "cell_type": "code",
      "source": [
        "m1_df = pd.merge(order_items_df,products_df,on='product_id')\n",
        "m2_df = pd.merge(m1_df,sellers_df,on='seller_id')\n",
        "m3_df = pd.merge(m2_df,orders_df,on='order_id')\n",
        "m4_df = pd.merge(m3_df,customers_df,on='customer_id')\n",
        "m5_df = pd.merge(m4_df,order_reviews_df,on='order_id')\n",
        "m6_df = pd.merge(m5_df,product_category_name_translation_df,on='product_category_name')\n",
        "final_df = pd.merge(m6_df,order_payments_df,on='order_id')\n",
        "tmp_df = final_df[['product_id','seller_id','order_id','customer_id','product_category_name']]\n",
        "tmp_df.head(5)"
      ],
      "metadata": {
        "id": "bK_x796RJtjN",
        "colab": {
          "base_uri": "https://localhost:8080/",
          "height": 206
        },
        "outputId": "b076e54d-51c0-4d16-a56a-4fdb1ed169e2"
      },
      "execution_count": null,
      "outputs": [
        {
          "output_type": "execute_result",
          "data": {
            "text/plain": [
              "                         product_id                         seller_id  \\\n",
              "0  4244733e06e7ecb4970a6e2683c13e61  48436dade18ac8b2bce089ec2a041202   \n",
              "1  4244733e06e7ecb4970a6e2683c13e61  48436dade18ac8b2bce089ec2a041202   \n",
              "2  4244733e06e7ecb4970a6e2683c13e61  48436dade18ac8b2bce089ec2a041202   \n",
              "3  4244733e06e7ecb4970a6e2683c13e61  48436dade18ac8b2bce089ec2a041202   \n",
              "4  4244733e06e7ecb4970a6e2683c13e61  48436dade18ac8b2bce089ec2a041202   \n",
              "\n",
              "                           order_id                       customer_id  \\\n",
              "0  00010242fe8c5a6d1ba2dd792cb16214  3ce436f183e68e07877b285a838db11a   \n",
              "1  130898c0987d1801452a8ed92a670612  e6eecc5a77de221464d1c4eaff0a9b64   \n",
              "2  532ed5e14e24ae1f0d735b91524b98b9  4ef55bf80f711b372afebcb7c715344a   \n",
              "3  6f8c31653edb8c83e1a739408b5ff750  30407a72ad8b3f4df4d15369126b20c9   \n",
              "4  7d19f4ef4d04461989632411b7e588b9  91a792fef70ecd8cc69d3c7feb3d12da   \n",
              "\n",
              "  product_category_name  \n",
              "0            cool_stuff  \n",
              "1            cool_stuff  \n",
              "2            cool_stuff  \n",
              "3            cool_stuff  \n",
              "4            cool_stuff  "
            ],
            "text/html": [
              "\n",
              "  <div id=\"df-5bc7cd83-2257-4224-9832-e50b331ec629\">\n",
              "    <div class=\"colab-df-container\">\n",
              "      <div>\n",
              "<style scoped>\n",
              "    .dataframe tbody tr th:only-of-type {\n",
              "        vertical-align: middle;\n",
              "    }\n",
              "\n",
              "    .dataframe tbody tr th {\n",
              "        vertical-align: top;\n",
              "    }\n",
              "\n",
              "    .dataframe thead th {\n",
              "        text-align: right;\n",
              "    }\n",
              "</style>\n",
              "<table border=\"1\" class=\"dataframe\">\n",
              "  <thead>\n",
              "    <tr style=\"text-align: right;\">\n",
              "      <th></th>\n",
              "      <th>product_id</th>\n",
              "      <th>seller_id</th>\n",
              "      <th>order_id</th>\n",
              "      <th>customer_id</th>\n",
              "      <th>product_category_name</th>\n",
              "    </tr>\n",
              "  </thead>\n",
              "  <tbody>\n",
              "    <tr>\n",
              "      <th>0</th>\n",
              "      <td>4244733e06e7ecb4970a6e2683c13e61</td>\n",
              "      <td>48436dade18ac8b2bce089ec2a041202</td>\n",
              "      <td>00010242fe8c5a6d1ba2dd792cb16214</td>\n",
              "      <td>3ce436f183e68e07877b285a838db11a</td>\n",
              "      <td>cool_stuff</td>\n",
              "    </tr>\n",
              "    <tr>\n",
              "      <th>1</th>\n",
              "      <td>4244733e06e7ecb4970a6e2683c13e61</td>\n",
              "      <td>48436dade18ac8b2bce089ec2a041202</td>\n",
              "      <td>130898c0987d1801452a8ed92a670612</td>\n",
              "      <td>e6eecc5a77de221464d1c4eaff0a9b64</td>\n",
              "      <td>cool_stuff</td>\n",
              "    </tr>\n",
              "    <tr>\n",
              "      <th>2</th>\n",
              "      <td>4244733e06e7ecb4970a6e2683c13e61</td>\n",
              "      <td>48436dade18ac8b2bce089ec2a041202</td>\n",
              "      <td>532ed5e14e24ae1f0d735b91524b98b9</td>\n",
              "      <td>4ef55bf80f711b372afebcb7c715344a</td>\n",
              "      <td>cool_stuff</td>\n",
              "    </tr>\n",
              "    <tr>\n",
              "      <th>3</th>\n",
              "      <td>4244733e06e7ecb4970a6e2683c13e61</td>\n",
              "      <td>48436dade18ac8b2bce089ec2a041202</td>\n",
              "      <td>6f8c31653edb8c83e1a739408b5ff750</td>\n",
              "      <td>30407a72ad8b3f4df4d15369126b20c9</td>\n",
              "      <td>cool_stuff</td>\n",
              "    </tr>\n",
              "    <tr>\n",
              "      <th>4</th>\n",
              "      <td>4244733e06e7ecb4970a6e2683c13e61</td>\n",
              "      <td>48436dade18ac8b2bce089ec2a041202</td>\n",
              "      <td>7d19f4ef4d04461989632411b7e588b9</td>\n",
              "      <td>91a792fef70ecd8cc69d3c7feb3d12da</td>\n",
              "      <td>cool_stuff</td>\n",
              "    </tr>\n",
              "  </tbody>\n",
              "</table>\n",
              "</div>\n",
              "      <button class=\"colab-df-convert\" onclick=\"convertToInteractive('df-5bc7cd83-2257-4224-9832-e50b331ec629')\"\n",
              "              title=\"Convert this dataframe to an interactive table.\"\n",
              "              style=\"display:none;\">\n",
              "        \n",
              "  <svg xmlns=\"http://www.w3.org/2000/svg\" height=\"24px\"viewBox=\"0 0 24 24\"\n",
              "       width=\"24px\">\n",
              "    <path d=\"M0 0h24v24H0V0z\" fill=\"none\"/>\n",
              "    <path d=\"M18.56 5.44l.94 2.06.94-2.06 2.06-.94-2.06-.94-.94-2.06-.94 2.06-2.06.94zm-11 1L8.5 8.5l.94-2.06 2.06-.94-2.06-.94L8.5 2.5l-.94 2.06-2.06.94zm10 10l.94 2.06.94-2.06 2.06-.94-2.06-.94-.94-2.06-.94 2.06-2.06.94z\"/><path d=\"M17.41 7.96l-1.37-1.37c-.4-.4-.92-.59-1.43-.59-.52 0-1.04.2-1.43.59L10.3 9.45l-7.72 7.72c-.78.78-.78 2.05 0 2.83L4 21.41c.39.39.9.59 1.41.59.51 0 1.02-.2 1.41-.59l7.78-7.78 2.81-2.81c.8-.78.8-2.07 0-2.86zM5.41 20L4 18.59l7.72-7.72 1.47 1.35L5.41 20z\"/>\n",
              "  </svg>\n",
              "      </button>\n",
              "      \n",
              "  <style>\n",
              "    .colab-df-container {\n",
              "      display:flex;\n",
              "      flex-wrap:wrap;\n",
              "      gap: 12px;\n",
              "    }\n",
              "\n",
              "    .colab-df-convert {\n",
              "      background-color: #E8F0FE;\n",
              "      border: none;\n",
              "      border-radius: 50%;\n",
              "      cursor: pointer;\n",
              "      display: none;\n",
              "      fill: #1967D2;\n",
              "      height: 32px;\n",
              "      padding: 0 0 0 0;\n",
              "      width: 32px;\n",
              "    }\n",
              "\n",
              "    .colab-df-convert:hover {\n",
              "      background-color: #E2EBFA;\n",
              "      box-shadow: 0px 1px 2px rgba(60, 64, 67, 0.3), 0px 1px 3px 1px rgba(60, 64, 67, 0.15);\n",
              "      fill: #174EA6;\n",
              "    }\n",
              "\n",
              "    [theme=dark] .colab-df-convert {\n",
              "      background-color: #3B4455;\n",
              "      fill: #D2E3FC;\n",
              "    }\n",
              "\n",
              "    [theme=dark] .colab-df-convert:hover {\n",
              "      background-color: #434B5C;\n",
              "      box-shadow: 0px 1px 3px 1px rgba(0, 0, 0, 0.15);\n",
              "      filter: drop-shadow(0px 1px 2px rgba(0, 0, 0, 0.3));\n",
              "      fill: #FFFFFF;\n",
              "    }\n",
              "  </style>\n",
              "\n",
              "      <script>\n",
              "        const buttonEl =\n",
              "          document.querySelector('#df-5bc7cd83-2257-4224-9832-e50b331ec629 button.colab-df-convert');\n",
              "        buttonEl.style.display =\n",
              "          google.colab.kernel.accessAllowed ? 'block' : 'none';\n",
              "\n",
              "        async function convertToInteractive(key) {\n",
              "          const element = document.querySelector('#df-5bc7cd83-2257-4224-9832-e50b331ec629');\n",
              "          const dataTable =\n",
              "            await google.colab.kernel.invokeFunction('convertToInteractive',\n",
              "                                                     [key], {});\n",
              "          if (!dataTable) return;\n",
              "\n",
              "          const docLinkHtml = 'Like what you see? Visit the ' +\n",
              "            '<a target=\"_blank\" href=https://colab.research.google.com/notebooks/data_table.ipynb>data table notebook</a>'\n",
              "            + ' to learn more about interactive tables.';\n",
              "          element.innerHTML = '';\n",
              "          dataTable['output_type'] = 'display_data';\n",
              "          await google.colab.output.renderOutput(dataTable, element);\n",
              "          const docLink = document.createElement('div');\n",
              "          docLink.innerHTML = docLinkHtml;\n",
              "          element.appendChild(docLink);\n",
              "        }\n",
              "      </script>\n",
              "    </div>\n",
              "  </div>\n",
              "  "
            ]
          },
          "metadata": {},
          "execution_count": 6
        }
      ]
    },
    {
      "cell_type": "code",
      "source": [
        "final_df.describe()"
      ],
      "metadata": {
        "colab": {
          "base_uri": "https://localhost:8080/",
          "height": 364
        },
        "id": "6srVm6VuF63N",
        "outputId": "13ee7754-c248-41b6-bc07-19e2531cb20d"
      },
      "execution_count": null,
      "outputs": [
        {
          "output_type": "execute_result",
          "data": {
            "text/plain": [
              "       order_item_id          price  freight_value  product_name_lenght  \\\n",
              "count  115609.000000  115609.000000  115609.000000        115609.000000   \n",
              "mean        1.194535     120.619850      20.056880            48.766541   \n",
              "std         0.685926     182.653476      15.836184            10.034187   \n",
              "min         1.000000       0.850000       0.000000             5.000000   \n",
              "25%         1.000000      39.900000      13.080000            42.000000   \n",
              "50%         1.000000      74.900000      16.320000            52.000000   \n",
              "75%         1.000000     134.900000      21.210000            57.000000   \n",
              "max        21.000000    6735.000000     409.680000            76.000000   \n",
              "\n",
              "       product_description_lenght  product_photos_qty  product_weight_g  \\\n",
              "count               115609.000000       115609.000000     115608.000000   \n",
              "mean                   785.808198            2.205373       2113.907697   \n",
              "std                    652.418619            1.717771       3781.754895   \n",
              "min                      4.000000            1.000000          0.000000   \n",
              "25%                    346.000000            1.000000        300.000000   \n",
              "50%                    600.000000            1.000000        700.000000   \n",
              "75%                    983.000000            3.000000       1800.000000   \n",
              "max                   3992.000000           20.000000      40425.000000   \n",
              "\n",
              "       product_length_cm  product_height_cm  product_width_cm  \\\n",
              "count      115608.000000      115608.000000     115608.000000   \n",
              "mean           30.307903          16.638477         23.113167   \n",
              "std            16.211108          13.473570         11.755083   \n",
              "min             7.000000           2.000000          6.000000   \n",
              "25%            18.000000           8.000000         15.000000   \n",
              "50%            25.000000          13.000000         20.000000   \n",
              "75%            38.000000          20.000000         30.000000   \n",
              "max           105.000000         105.000000        118.000000   \n",
              "\n",
              "       seller_zip_code_prefix  customer_zip_code_prefix   review_score  \\\n",
              "count           115609.000000             115609.000000  115609.000000   \n",
              "mean             24515.713958              35061.537597       4.034409   \n",
              "std              27636.640968              29841.671732       1.385584   \n",
              "min               1001.000000               1003.000000       1.000000   \n",
              "25%               6429.000000              11310.000000       4.000000   \n",
              "50%              13660.000000              24241.000000       5.000000   \n",
              "75%              28605.000000              58745.000000       5.000000   \n",
              "max              99730.000000              99980.000000       5.000000   \n",
              "\n",
              "       payment_sequential  payment_installments  payment_value  \n",
              "count       115609.000000         115609.000000  115609.000000  \n",
              "mean             1.093747              2.946233     172.387379  \n",
              "std              0.729849              2.781087     265.873969  \n",
              "min              1.000000              0.000000       0.000000  \n",
              "25%              1.000000              1.000000      60.870000  \n",
              "50%              1.000000              2.000000     108.050000  \n",
              "75%              1.000000              4.000000     189.480000  \n",
              "max             29.000000             24.000000   13664.080000  "
            ],
            "text/html": [
              "\n",
              "  <div id=\"df-c59e7632-ebe0-43fc-872c-ec795976344f\">\n",
              "    <div class=\"colab-df-container\">\n",
              "      <div>\n",
              "<style scoped>\n",
              "    .dataframe tbody tr th:only-of-type {\n",
              "        vertical-align: middle;\n",
              "    }\n",
              "\n",
              "    .dataframe tbody tr th {\n",
              "        vertical-align: top;\n",
              "    }\n",
              "\n",
              "    .dataframe thead th {\n",
              "        text-align: right;\n",
              "    }\n",
              "</style>\n",
              "<table border=\"1\" class=\"dataframe\">\n",
              "  <thead>\n",
              "    <tr style=\"text-align: right;\">\n",
              "      <th></th>\n",
              "      <th>order_item_id</th>\n",
              "      <th>price</th>\n",
              "      <th>freight_value</th>\n",
              "      <th>product_name_lenght</th>\n",
              "      <th>product_description_lenght</th>\n",
              "      <th>product_photos_qty</th>\n",
              "      <th>product_weight_g</th>\n",
              "      <th>product_length_cm</th>\n",
              "      <th>product_height_cm</th>\n",
              "      <th>product_width_cm</th>\n",
              "      <th>seller_zip_code_prefix</th>\n",
              "      <th>customer_zip_code_prefix</th>\n",
              "      <th>review_score</th>\n",
              "      <th>payment_sequential</th>\n",
              "      <th>payment_installments</th>\n",
              "      <th>payment_value</th>\n",
              "    </tr>\n",
              "  </thead>\n",
              "  <tbody>\n",
              "    <tr>\n",
              "      <th>count</th>\n",
              "      <td>115609.000000</td>\n",
              "      <td>115609.000000</td>\n",
              "      <td>115609.000000</td>\n",
              "      <td>115609.000000</td>\n",
              "      <td>115609.000000</td>\n",
              "      <td>115609.000000</td>\n",
              "      <td>115608.000000</td>\n",
              "      <td>115608.000000</td>\n",
              "      <td>115608.000000</td>\n",
              "      <td>115608.000000</td>\n",
              "      <td>115609.000000</td>\n",
              "      <td>115609.000000</td>\n",
              "      <td>115609.000000</td>\n",
              "      <td>115609.000000</td>\n",
              "      <td>115609.000000</td>\n",
              "      <td>115609.000000</td>\n",
              "    </tr>\n",
              "    <tr>\n",
              "      <th>mean</th>\n",
              "      <td>1.194535</td>\n",
              "      <td>120.619850</td>\n",
              "      <td>20.056880</td>\n",
              "      <td>48.766541</td>\n",
              "      <td>785.808198</td>\n",
              "      <td>2.205373</td>\n",
              "      <td>2113.907697</td>\n",
              "      <td>30.307903</td>\n",
              "      <td>16.638477</td>\n",
              "      <td>23.113167</td>\n",
              "      <td>24515.713958</td>\n",
              "      <td>35061.537597</td>\n",
              "      <td>4.034409</td>\n",
              "      <td>1.093747</td>\n",
              "      <td>2.946233</td>\n",
              "      <td>172.387379</td>\n",
              "    </tr>\n",
              "    <tr>\n",
              "      <th>std</th>\n",
              "      <td>0.685926</td>\n",
              "      <td>182.653476</td>\n",
              "      <td>15.836184</td>\n",
              "      <td>10.034187</td>\n",
              "      <td>652.418619</td>\n",
              "      <td>1.717771</td>\n",
              "      <td>3781.754895</td>\n",
              "      <td>16.211108</td>\n",
              "      <td>13.473570</td>\n",
              "      <td>11.755083</td>\n",
              "      <td>27636.640968</td>\n",
              "      <td>29841.671732</td>\n",
              "      <td>1.385584</td>\n",
              "      <td>0.729849</td>\n",
              "      <td>2.781087</td>\n",
              "      <td>265.873969</td>\n",
              "    </tr>\n",
              "    <tr>\n",
              "      <th>min</th>\n",
              "      <td>1.000000</td>\n",
              "      <td>0.850000</td>\n",
              "      <td>0.000000</td>\n",
              "      <td>5.000000</td>\n",
              "      <td>4.000000</td>\n",
              "      <td>1.000000</td>\n",
              "      <td>0.000000</td>\n",
              "      <td>7.000000</td>\n",
              "      <td>2.000000</td>\n",
              "      <td>6.000000</td>\n",
              "      <td>1001.000000</td>\n",
              "      <td>1003.000000</td>\n",
              "      <td>1.000000</td>\n",
              "      <td>1.000000</td>\n",
              "      <td>0.000000</td>\n",
              "      <td>0.000000</td>\n",
              "    </tr>\n",
              "    <tr>\n",
              "      <th>25%</th>\n",
              "      <td>1.000000</td>\n",
              "      <td>39.900000</td>\n",
              "      <td>13.080000</td>\n",
              "      <td>42.000000</td>\n",
              "      <td>346.000000</td>\n",
              "      <td>1.000000</td>\n",
              "      <td>300.000000</td>\n",
              "      <td>18.000000</td>\n",
              "      <td>8.000000</td>\n",
              "      <td>15.000000</td>\n",
              "      <td>6429.000000</td>\n",
              "      <td>11310.000000</td>\n",
              "      <td>4.000000</td>\n",
              "      <td>1.000000</td>\n",
              "      <td>1.000000</td>\n",
              "      <td>60.870000</td>\n",
              "    </tr>\n",
              "    <tr>\n",
              "      <th>50%</th>\n",
              "      <td>1.000000</td>\n",
              "      <td>74.900000</td>\n",
              "      <td>16.320000</td>\n",
              "      <td>52.000000</td>\n",
              "      <td>600.000000</td>\n",
              "      <td>1.000000</td>\n",
              "      <td>700.000000</td>\n",
              "      <td>25.000000</td>\n",
              "      <td>13.000000</td>\n",
              "      <td>20.000000</td>\n",
              "      <td>13660.000000</td>\n",
              "      <td>24241.000000</td>\n",
              "      <td>5.000000</td>\n",
              "      <td>1.000000</td>\n",
              "      <td>2.000000</td>\n",
              "      <td>108.050000</td>\n",
              "    </tr>\n",
              "    <tr>\n",
              "      <th>75%</th>\n",
              "      <td>1.000000</td>\n",
              "      <td>134.900000</td>\n",
              "      <td>21.210000</td>\n",
              "      <td>57.000000</td>\n",
              "      <td>983.000000</td>\n",
              "      <td>3.000000</td>\n",
              "      <td>1800.000000</td>\n",
              "      <td>38.000000</td>\n",
              "      <td>20.000000</td>\n",
              "      <td>30.000000</td>\n",
              "      <td>28605.000000</td>\n",
              "      <td>58745.000000</td>\n",
              "      <td>5.000000</td>\n",
              "      <td>1.000000</td>\n",
              "      <td>4.000000</td>\n",
              "      <td>189.480000</td>\n",
              "    </tr>\n",
              "    <tr>\n",
              "      <th>max</th>\n",
              "      <td>21.000000</td>\n",
              "      <td>6735.000000</td>\n",
              "      <td>409.680000</td>\n",
              "      <td>76.000000</td>\n",
              "      <td>3992.000000</td>\n",
              "      <td>20.000000</td>\n",
              "      <td>40425.000000</td>\n",
              "      <td>105.000000</td>\n",
              "      <td>105.000000</td>\n",
              "      <td>118.000000</td>\n",
              "      <td>99730.000000</td>\n",
              "      <td>99980.000000</td>\n",
              "      <td>5.000000</td>\n",
              "      <td>29.000000</td>\n",
              "      <td>24.000000</td>\n",
              "      <td>13664.080000</td>\n",
              "    </tr>\n",
              "  </tbody>\n",
              "</table>\n",
              "</div>\n",
              "      <button class=\"colab-df-convert\" onclick=\"convertToInteractive('df-c59e7632-ebe0-43fc-872c-ec795976344f')\"\n",
              "              title=\"Convert this dataframe to an interactive table.\"\n",
              "              style=\"display:none;\">\n",
              "        \n",
              "  <svg xmlns=\"http://www.w3.org/2000/svg\" height=\"24px\"viewBox=\"0 0 24 24\"\n",
              "       width=\"24px\">\n",
              "    <path d=\"M0 0h24v24H0V0z\" fill=\"none\"/>\n",
              "    <path d=\"M18.56 5.44l.94 2.06.94-2.06 2.06-.94-2.06-.94-.94-2.06-.94 2.06-2.06.94zm-11 1L8.5 8.5l.94-2.06 2.06-.94-2.06-.94L8.5 2.5l-.94 2.06-2.06.94zm10 10l.94 2.06.94-2.06 2.06-.94-2.06-.94-.94-2.06-.94 2.06-2.06.94z\"/><path d=\"M17.41 7.96l-1.37-1.37c-.4-.4-.92-.59-1.43-.59-.52 0-1.04.2-1.43.59L10.3 9.45l-7.72 7.72c-.78.78-.78 2.05 0 2.83L4 21.41c.39.39.9.59 1.41.59.51 0 1.02-.2 1.41-.59l7.78-7.78 2.81-2.81c.8-.78.8-2.07 0-2.86zM5.41 20L4 18.59l7.72-7.72 1.47 1.35L5.41 20z\"/>\n",
              "  </svg>\n",
              "      </button>\n",
              "      \n",
              "  <style>\n",
              "    .colab-df-container {\n",
              "      display:flex;\n",
              "      flex-wrap:wrap;\n",
              "      gap: 12px;\n",
              "    }\n",
              "\n",
              "    .colab-df-convert {\n",
              "      background-color: #E8F0FE;\n",
              "      border: none;\n",
              "      border-radius: 50%;\n",
              "      cursor: pointer;\n",
              "      display: none;\n",
              "      fill: #1967D2;\n",
              "      height: 32px;\n",
              "      padding: 0 0 0 0;\n",
              "      width: 32px;\n",
              "    }\n",
              "\n",
              "    .colab-df-convert:hover {\n",
              "      background-color: #E2EBFA;\n",
              "      box-shadow: 0px 1px 2px rgba(60, 64, 67, 0.3), 0px 1px 3px 1px rgba(60, 64, 67, 0.15);\n",
              "      fill: #174EA6;\n",
              "    }\n",
              "\n",
              "    [theme=dark] .colab-df-convert {\n",
              "      background-color: #3B4455;\n",
              "      fill: #D2E3FC;\n",
              "    }\n",
              "\n",
              "    [theme=dark] .colab-df-convert:hover {\n",
              "      background-color: #434B5C;\n",
              "      box-shadow: 0px 1px 3px 1px rgba(0, 0, 0, 0.15);\n",
              "      filter: drop-shadow(0px 1px 2px rgba(0, 0, 0, 0.3));\n",
              "      fill: #FFFFFF;\n",
              "    }\n",
              "  </style>\n",
              "\n",
              "      <script>\n",
              "        const buttonEl =\n",
              "          document.querySelector('#df-c59e7632-ebe0-43fc-872c-ec795976344f button.colab-df-convert');\n",
              "        buttonEl.style.display =\n",
              "          google.colab.kernel.accessAllowed ? 'block' : 'none';\n",
              "\n",
              "        async function convertToInteractive(key) {\n",
              "          const element = document.querySelector('#df-c59e7632-ebe0-43fc-872c-ec795976344f');\n",
              "          const dataTable =\n",
              "            await google.colab.kernel.invokeFunction('convertToInteractive',\n",
              "                                                     [key], {});\n",
              "          if (!dataTable) return;\n",
              "\n",
              "          const docLinkHtml = 'Like what you see? Visit the ' +\n",
              "            '<a target=\"_blank\" href=https://colab.research.google.com/notebooks/data_table.ipynb>data table notebook</a>'\n",
              "            + ' to learn more about interactive tables.';\n",
              "          element.innerHTML = '';\n",
              "          dataTable['output_type'] = 'display_data';\n",
              "          await google.colab.output.renderOutput(dataTable, element);\n",
              "          const docLink = document.createElement('div');\n",
              "          docLink.innerHTML = docLinkHtml;\n",
              "          element.appendChild(docLink);\n",
              "        }\n",
              "      </script>\n",
              "    </div>\n",
              "  </div>\n",
              "  "
            ]
          },
          "metadata": {},
          "execution_count": 9
        }
      ]
    },
    {
      "cell_type": "code",
      "source": [
        "final_df = final_df.drop_duplicates(subset=['order_id','order_purchase_timestamp','product_id','customer_unique_id','review_comment_message'])\n",
        "final_df.drop(['order_id','product_id','seller_id','customer_unique_id'], axis=1, inplace=True)\n",
        "final_df.dropna(inplace=True)\n",
        "final_df['class_label'] = np.where(final_df['review_score']> 3, 1, 0)\n",
        "final_df.to_csv(\"merge_data.csv\")"
      ],
      "metadata": {
        "id": "T1AuU-riMF-G"
      },
      "execution_count": null,
      "outputs": []
    },
    {
      "cell_type": "code",
      "source": [
        "df = pd.read_csv(\"merge_data.csv\")"
      ],
      "metadata": {
        "id": "uO9T0PBIPdAG"
      },
      "execution_count": null,
      "outputs": []
    },
    {
      "cell_type": "code",
      "source": [
        "df[\"order_purchase_timestamp\"] = pd.to_datetime(df[\"order_purchase_timestamp\"], format='%Y-%m-%d %H:%M:%S')\n",
        "df[\"order_delivered_carrier_date\"] = pd.to_datetime(df[\"order_delivered_carrier_date\"], format='%Y-%m-%d %H:%M:%S')\n",
        "df[\"order_delivered_customer_date\"] = pd.to_datetime(df[\"order_delivered_customer_date\"], format='%Y-%m-%d %H:%M:%S')\n",
        "df[\"order_estimated_delivery_date\"] = pd.to_datetime(df[\"order_estimated_delivery_date\"], format='%Y-%m-%d %H:%M:%S')\n",
        "df[\"shipping_limit_date\"] = pd.to_datetime(df[\"shipping_limit_date\"], format='%Y-%m-%d %H:%M:%S')\n",
        "\n",
        "df['days_diff_deivery'] = (df.order_delivered_customer_date - df.order_purchase_timestamp)/np.timedelta64(1, 'D')\n",
        "df['days_diff_est_del'] = (df.order_estimated_delivery_date - df.order_delivered_customer_date)/np.timedelta64(1, 'D')\n",
        "df['days_diff_shp_del'] = (df.shipping_limit_date - df.order_delivered_customer_date)/np.timedelta64(1, 'D')"
      ],
      "metadata": {
        "id": "xLX6ruD4XUDh"
      },
      "execution_count": null,
      "outputs": []
    },
    {
      "cell_type": "code",
      "source": [
        "df['product_category_name'].fillna(value=df['product_category_name'].mode()[0], inplace=True)\n",
        "df['product_name_lenght'].fillna(value=df['product_name_lenght'].mode()[0], inplace=True)\n",
        "df['product_description_lenght'].fillna(value=df['product_description_lenght'].median(), inplace=True)\n",
        "df['product_photos_qty'].fillna(value=df['product_photos_qty'].mode()[0], inplace=True)\n",
        "df['product_weight_g'].fillna(value=df['product_weight_g'].mode()[0], inplace=True)\n",
        "df['product_length_cm'].fillna(value=df['product_length_cm'].mode()[0], inplace=True)\n",
        "df['product_height_cm'].fillna(value=df['product_height_cm'].mode()[0], inplace=True)\n",
        "df['product_width_cm'].fillna(value=df['product_width_cm'].mode()[0], inplace=True)\n",
        "df['review_comment_message'].fillna(value='noval', inplace=True)"
      ],
      "metadata": {
        "id": "DMJ112QkNP9e"
      },
      "execution_count": null,
      "outputs": []
    },
    {
      "cell_type": "code",
      "source": [
        "df = df[df['order_status'] != 'canceled']\n",
        "df['review_flag'] = df['review_comment_message'].apply(lambda x: 1 if x != 'noval' else 0)"
      ],
      "metadata": {
        "id": "ix1zXgTOc-Z4"
      },
      "execution_count": null,
      "outputs": []
    },
    {
      "cell_type": "code",
      "source": [
        "seller_city_rc = response_coding(df,'seller_city')\n",
        "seller_state_rc = response_coding(df,'seller_state')\n",
        "seller_zip_code_prefix_rc = response_coding(df,'seller_zip_code_prefix')\n",
        "customer_zip_code_prefix_rc = response_coding(df,'customer_zip_code_prefix')\n",
        "customer_city_rc = response_coding(df,'customer_city')\n",
        "customer_state_rc = response_coding(df,'customer_state')\n",
        "res_tmp1_df = pd.merge(df, seller_city_rc, on=\"seller_city\")\n",
        "res_tmp2_df = pd.merge(res_tmp1_df, seller_state_rc, on=\"seller_state\")\n",
        "res_tmp3_df = pd.merge(res_tmp2_df, seller_zip_code_prefix_rc, on=\"seller_zip_code_prefix\")\n",
        "res_tmp4_df = pd.merge(res_tmp3_df, customer_zip_code_prefix_rc, on=\"customer_zip_code_prefix\")\n",
        "res_tmp5_df = pd.merge(res_tmp4_df, customer_city_rc, on=\"customer_city\")\n",
        "res_df = pd.merge(res_tmp5_df, customer_state_rc, on=\"customer_state\")\n"
      ],
      "metadata": {
        "id": "VCDhqq6hetiP"
      },
      "execution_count": null,
      "outputs": []
    },
    {
      "cell_type": "code",
      "source": [
        "customer_zip_code_prefix_rc.set_index(\"customer_zip_code_prefix\", drop=True, inplace=True)\n",
        "customer_state_dict = customer_zip_code_prefix_rc.to_dict(orient=\"index\")\n",
        "customer_state_dict"
      ],
      "metadata": {
        "id": "6QebR7OGu_fH"
      },
      "execution_count": null,
      "outputs": []
    },
    {
      "cell_type": "code",
      "source": [
        "df['seller_city_rc'] = df['seller_city'].map(seller_city_dict)\n",
        "df_final = pd.concat([df, df['seller_city_rc'].apply(pd.Series)], axis = 1).drop('seller_city_rc', axis = 1)\n",
        "df_final"
      ],
      "metadata": {
        "id": "ZF1xz3CaAdYH",
        "outputId": "7f4625e2-e470-43e4-d6a9-9abcf224cf2d",
        "colab": {
          "base_uri": "https://localhost:8080/",
          "height": 505
        }
      },
      "execution_count": null,
      "outputs": [
        {
          "output_type": "execute_result",
          "data": {
            "text/plain": [
              "      Unnamed: 0  order_item_id shipping_limit_date    price  freight_value  \\\n",
              "0              2              1 2018-05-23 10:56:25    64.90          18.33   \n",
              "1            163              1 2018-04-19 14:51:50   133.05          15.81   \n",
              "2            164              1 2018-06-20 11:59:47  1013.40          22.39   \n",
              "3            165              3 2018-06-18 16:30:57    99.99          19.16   \n",
              "4            166              4 2018-06-18 16:30:57    39.90           0.96   \n",
              "...          ...            ...                 ...      ...            ...   \n",
              "9950      115574              1 2018-07-31 10:35:17    19.80           7.40   \n",
              "9951      115576              1 2018-07-30 09:17:39    19.00          12.86   \n",
              "9952      115577              2 2018-07-30 09:17:39    39.90          12.87   \n",
              "9953      115579              1 2018-08-27 11:50:47   289.49          24.83   \n",
              "9954      115601              1 2018-05-07 15:53:46    16.40          19.32   \n",
              "\n",
              "     product_category_name  product_name_lenght  product_description_lenght  \\\n",
              "0               cool_stuff                 58.0                       598.0   \n",
              "1               cool_stuff                 56.0                      1400.0   \n",
              "2               cool_stuff                 43.0                       712.0   \n",
              "3               cool_stuff                 47.0                       404.0   \n",
              "4                telefonia                 53.0                       538.0   \n",
              "...                    ...                  ...                         ...   \n",
              "9950    artes_e_artesanato                 53.0                       529.0   \n",
              "9951    artes_e_artesanato                 32.0                       660.0   \n",
              "9952    artes_e_artesanato                 57.0                       942.0   \n",
              "9953    artes_e_artesanato                 47.0                      1002.0   \n",
              "9954                flores                 60.0                       489.0   \n",
              "\n",
              "      product_photos_qty  product_weight_g  ...  payment_type  \\\n",
              "0                    4.0             650.0  ...   credit_card   \n",
              "1                    2.0             585.0  ...   credit_card   \n",
              "2                    2.0            5288.0  ...   credit_card   \n",
              "3                    1.0             525.0  ...   credit_card   \n",
              "4                    1.0             200.0  ...   credit_card   \n",
              "...                  ...               ...  ...           ...   \n",
              "9950                 2.0             325.0  ...   credit_card   \n",
              "9951                 3.0             500.0  ...   credit_card   \n",
              "9952                 5.0             500.0  ...   credit_card   \n",
              "9953                 3.0            1900.0  ...   credit_card   \n",
              "9954                 1.0             800.0  ...   credit_card   \n",
              "\n",
              "      payment_installments  payment_value  class_label days_diff_deivery  \\\n",
              "0                        2          83.23            1         17.339271   \n",
              "1                        1         148.86            1         19.093935   \n",
              "2                        5        1035.79            1          4.174282   \n",
              "3                       18         397.90            0          2.988935   \n",
              "4                       18         397.90            0          2.988935   \n",
              "...                    ...            ...          ...               ...   \n",
              "9950                     1          27.20            1          1.625428   \n",
              "9951                     1          84.63            0          3.811759   \n",
              "9952                     1          84.63            0          3.811759   \n",
              "9953                     5         314.32            1          3.067593   \n",
              "9954                     1          35.72            0         16.881192   \n",
              "\n",
              "     days_diff_est_del days_diff_shp_del review_flag class_1_seller_city  \\\n",
              "0             2.226088        -12.318067           1            1.000000   \n",
              "1            15.291794        -13.088877           1            0.635036   \n",
              "2            10.342708          1.842558           1            0.635036   \n",
              "3            26.345752          3.033912           1            0.817814   \n",
              "4            26.345752          3.033912           1            0.500000   \n",
              "...                ...               ...         ...                 ...   \n",
              "9950          5.939155          4.380324           1            0.666667   \n",
              "9951          9.413773          2.801030           1            0.514286   \n",
              "9952          9.413773          2.801030           1            0.514286   \n",
              "9953         12.453877          2.947477           1            1.000000   \n",
              "9954          3.474005        -10.863657           1            0.590909   \n",
              "\n",
              "     class_0_seller_city  \n",
              "0               0.000000  \n",
              "1               0.364964  \n",
              "2               0.364964  \n",
              "3               0.182186  \n",
              "4               0.500000  \n",
              "...                  ...  \n",
              "9950            0.333333  \n",
              "9951            0.485714  \n",
              "9952            0.485714  \n",
              "9953            0.000000  \n",
              "9954            0.409091  \n",
              "\n",
              "[9955 rows x 44 columns]"
            ],
            "text/html": [
              "\n",
              "  <div id=\"df-cbd3a4fa-c880-4fd9-b26c-46f441f42f9b\">\n",
              "    <div class=\"colab-df-container\">\n",
              "      <div>\n",
              "<style scoped>\n",
              "    .dataframe tbody tr th:only-of-type {\n",
              "        vertical-align: middle;\n",
              "    }\n",
              "\n",
              "    .dataframe tbody tr th {\n",
              "        vertical-align: top;\n",
              "    }\n",
              "\n",
              "    .dataframe thead th {\n",
              "        text-align: right;\n",
              "    }\n",
              "</style>\n",
              "<table border=\"1\" class=\"dataframe\">\n",
              "  <thead>\n",
              "    <tr style=\"text-align: right;\">\n",
              "      <th></th>\n",
              "      <th>Unnamed: 0</th>\n",
              "      <th>order_item_id</th>\n",
              "      <th>shipping_limit_date</th>\n",
              "      <th>price</th>\n",
              "      <th>freight_value</th>\n",
              "      <th>product_category_name</th>\n",
              "      <th>product_name_lenght</th>\n",
              "      <th>product_description_lenght</th>\n",
              "      <th>product_photos_qty</th>\n",
              "      <th>product_weight_g</th>\n",
              "      <th>...</th>\n",
              "      <th>payment_type</th>\n",
              "      <th>payment_installments</th>\n",
              "      <th>payment_value</th>\n",
              "      <th>class_label</th>\n",
              "      <th>days_diff_deivery</th>\n",
              "      <th>days_diff_est_del</th>\n",
              "      <th>days_diff_shp_del</th>\n",
              "      <th>review_flag</th>\n",
              "      <th>class_1_seller_city</th>\n",
              "      <th>class_0_seller_city</th>\n",
              "    </tr>\n",
              "  </thead>\n",
              "  <tbody>\n",
              "    <tr>\n",
              "      <th>0</th>\n",
              "      <td>2</td>\n",
              "      <td>1</td>\n",
              "      <td>2018-05-23 10:56:25</td>\n",
              "      <td>64.90</td>\n",
              "      <td>18.33</td>\n",
              "      <td>cool_stuff</td>\n",
              "      <td>58.0</td>\n",
              "      <td>598.0</td>\n",
              "      <td>4.0</td>\n",
              "      <td>650.0</td>\n",
              "      <td>...</td>\n",
              "      <td>credit_card</td>\n",
              "      <td>2</td>\n",
              "      <td>83.23</td>\n",
              "      <td>1</td>\n",
              "      <td>17.339271</td>\n",
              "      <td>2.226088</td>\n",
              "      <td>-12.318067</td>\n",
              "      <td>1</td>\n",
              "      <td>1.000000</td>\n",
              "      <td>0.000000</td>\n",
              "    </tr>\n",
              "    <tr>\n",
              "      <th>1</th>\n",
              "      <td>163</td>\n",
              "      <td>1</td>\n",
              "      <td>2018-04-19 14:51:50</td>\n",
              "      <td>133.05</td>\n",
              "      <td>15.81</td>\n",
              "      <td>cool_stuff</td>\n",
              "      <td>56.0</td>\n",
              "      <td>1400.0</td>\n",
              "      <td>2.0</td>\n",
              "      <td>585.0</td>\n",
              "      <td>...</td>\n",
              "      <td>credit_card</td>\n",
              "      <td>1</td>\n",
              "      <td>148.86</td>\n",
              "      <td>1</td>\n",
              "      <td>19.093935</td>\n",
              "      <td>15.291794</td>\n",
              "      <td>-13.088877</td>\n",
              "      <td>1</td>\n",
              "      <td>0.635036</td>\n",
              "      <td>0.364964</td>\n",
              "    </tr>\n",
              "    <tr>\n",
              "      <th>2</th>\n",
              "      <td>164</td>\n",
              "      <td>1</td>\n",
              "      <td>2018-06-20 11:59:47</td>\n",
              "      <td>1013.40</td>\n",
              "      <td>22.39</td>\n",
              "      <td>cool_stuff</td>\n",
              "      <td>43.0</td>\n",
              "      <td>712.0</td>\n",
              "      <td>2.0</td>\n",
              "      <td>5288.0</td>\n",
              "      <td>...</td>\n",
              "      <td>credit_card</td>\n",
              "      <td>5</td>\n",
              "      <td>1035.79</td>\n",
              "      <td>1</td>\n",
              "      <td>4.174282</td>\n",
              "      <td>10.342708</td>\n",
              "      <td>1.842558</td>\n",
              "      <td>1</td>\n",
              "      <td>0.635036</td>\n",
              "      <td>0.364964</td>\n",
              "    </tr>\n",
              "    <tr>\n",
              "      <th>3</th>\n",
              "      <td>165</td>\n",
              "      <td>3</td>\n",
              "      <td>2018-06-18 16:30:57</td>\n",
              "      <td>99.99</td>\n",
              "      <td>19.16</td>\n",
              "      <td>cool_stuff</td>\n",
              "      <td>47.0</td>\n",
              "      <td>404.0</td>\n",
              "      <td>1.0</td>\n",
              "      <td>525.0</td>\n",
              "      <td>...</td>\n",
              "      <td>credit_card</td>\n",
              "      <td>18</td>\n",
              "      <td>397.90</td>\n",
              "      <td>0</td>\n",
              "      <td>2.988935</td>\n",
              "      <td>26.345752</td>\n",
              "      <td>3.033912</td>\n",
              "      <td>1</td>\n",
              "      <td>0.817814</td>\n",
              "      <td>0.182186</td>\n",
              "    </tr>\n",
              "    <tr>\n",
              "      <th>4</th>\n",
              "      <td>166</td>\n",
              "      <td>4</td>\n",
              "      <td>2018-06-18 16:30:57</td>\n",
              "      <td>39.90</td>\n",
              "      <td>0.96</td>\n",
              "      <td>telefonia</td>\n",
              "      <td>53.0</td>\n",
              "      <td>538.0</td>\n",
              "      <td>1.0</td>\n",
              "      <td>200.0</td>\n",
              "      <td>...</td>\n",
              "      <td>credit_card</td>\n",
              "      <td>18</td>\n",
              "      <td>397.90</td>\n",
              "      <td>0</td>\n",
              "      <td>2.988935</td>\n",
              "      <td>26.345752</td>\n",
              "      <td>3.033912</td>\n",
              "      <td>1</td>\n",
              "      <td>0.500000</td>\n",
              "      <td>0.500000</td>\n",
              "    </tr>\n",
              "    <tr>\n",
              "      <th>...</th>\n",
              "      <td>...</td>\n",
              "      <td>...</td>\n",
              "      <td>...</td>\n",
              "      <td>...</td>\n",
              "      <td>...</td>\n",
              "      <td>...</td>\n",
              "      <td>...</td>\n",
              "      <td>...</td>\n",
              "      <td>...</td>\n",
              "      <td>...</td>\n",
              "      <td>...</td>\n",
              "      <td>...</td>\n",
              "      <td>...</td>\n",
              "      <td>...</td>\n",
              "      <td>...</td>\n",
              "      <td>...</td>\n",
              "      <td>...</td>\n",
              "      <td>...</td>\n",
              "      <td>...</td>\n",
              "      <td>...</td>\n",
              "      <td>...</td>\n",
              "    </tr>\n",
              "    <tr>\n",
              "      <th>9950</th>\n",
              "      <td>115574</td>\n",
              "      <td>1</td>\n",
              "      <td>2018-07-31 10:35:17</td>\n",
              "      <td>19.80</td>\n",
              "      <td>7.40</td>\n",
              "      <td>artes_e_artesanato</td>\n",
              "      <td>53.0</td>\n",
              "      <td>529.0</td>\n",
              "      <td>2.0</td>\n",
              "      <td>325.0</td>\n",
              "      <td>...</td>\n",
              "      <td>credit_card</td>\n",
              "      <td>1</td>\n",
              "      <td>27.20</td>\n",
              "      <td>1</td>\n",
              "      <td>1.625428</td>\n",
              "      <td>5.939155</td>\n",
              "      <td>4.380324</td>\n",
              "      <td>1</td>\n",
              "      <td>0.666667</td>\n",
              "      <td>0.333333</td>\n",
              "    </tr>\n",
              "    <tr>\n",
              "      <th>9951</th>\n",
              "      <td>115576</td>\n",
              "      <td>1</td>\n",
              "      <td>2018-07-30 09:17:39</td>\n",
              "      <td>19.00</td>\n",
              "      <td>12.86</td>\n",
              "      <td>artes_e_artesanato</td>\n",
              "      <td>32.0</td>\n",
              "      <td>660.0</td>\n",
              "      <td>3.0</td>\n",
              "      <td>500.0</td>\n",
              "      <td>...</td>\n",
              "      <td>credit_card</td>\n",
              "      <td>1</td>\n",
              "      <td>84.63</td>\n",
              "      <td>0</td>\n",
              "      <td>3.811759</td>\n",
              "      <td>9.413773</td>\n",
              "      <td>2.801030</td>\n",
              "      <td>1</td>\n",
              "      <td>0.514286</td>\n",
              "      <td>0.485714</td>\n",
              "    </tr>\n",
              "    <tr>\n",
              "      <th>9952</th>\n",
              "      <td>115577</td>\n",
              "      <td>2</td>\n",
              "      <td>2018-07-30 09:17:39</td>\n",
              "      <td>39.90</td>\n",
              "      <td>12.87</td>\n",
              "      <td>artes_e_artesanato</td>\n",
              "      <td>57.0</td>\n",
              "      <td>942.0</td>\n",
              "      <td>5.0</td>\n",
              "      <td>500.0</td>\n",
              "      <td>...</td>\n",
              "      <td>credit_card</td>\n",
              "      <td>1</td>\n",
              "      <td>84.63</td>\n",
              "      <td>0</td>\n",
              "      <td>3.811759</td>\n",
              "      <td>9.413773</td>\n",
              "      <td>2.801030</td>\n",
              "      <td>1</td>\n",
              "      <td>0.514286</td>\n",
              "      <td>0.485714</td>\n",
              "    </tr>\n",
              "    <tr>\n",
              "      <th>9953</th>\n",
              "      <td>115579</td>\n",
              "      <td>1</td>\n",
              "      <td>2018-08-27 11:50:47</td>\n",
              "      <td>289.49</td>\n",
              "      <td>24.83</td>\n",
              "      <td>artes_e_artesanato</td>\n",
              "      <td>47.0</td>\n",
              "      <td>1002.0</td>\n",
              "      <td>3.0</td>\n",
              "      <td>1900.0</td>\n",
              "      <td>...</td>\n",
              "      <td>credit_card</td>\n",
              "      <td>5</td>\n",
              "      <td>314.32</td>\n",
              "      <td>1</td>\n",
              "      <td>3.067593</td>\n",
              "      <td>12.453877</td>\n",
              "      <td>2.947477</td>\n",
              "      <td>1</td>\n",
              "      <td>1.000000</td>\n",
              "      <td>0.000000</td>\n",
              "    </tr>\n",
              "    <tr>\n",
              "      <th>9954</th>\n",
              "      <td>115601</td>\n",
              "      <td>1</td>\n",
              "      <td>2018-05-07 15:53:46</td>\n",
              "      <td>16.40</td>\n",
              "      <td>19.32</td>\n",
              "      <td>flores</td>\n",
              "      <td>60.0</td>\n",
              "      <td>489.0</td>\n",
              "      <td>1.0</td>\n",
              "      <td>800.0</td>\n",
              "      <td>...</td>\n",
              "      <td>credit_card</td>\n",
              "      <td>1</td>\n",
              "      <td>35.72</td>\n",
              "      <td>0</td>\n",
              "      <td>16.881192</td>\n",
              "      <td>3.474005</td>\n",
              "      <td>-10.863657</td>\n",
              "      <td>1</td>\n",
              "      <td>0.590909</td>\n",
              "      <td>0.409091</td>\n",
              "    </tr>\n",
              "  </tbody>\n",
              "</table>\n",
              "<p>9955 rows × 44 columns</p>\n",
              "</div>\n",
              "      <button class=\"colab-df-convert\" onclick=\"convertToInteractive('df-cbd3a4fa-c880-4fd9-b26c-46f441f42f9b')\"\n",
              "              title=\"Convert this dataframe to an interactive table.\"\n",
              "              style=\"display:none;\">\n",
              "        \n",
              "  <svg xmlns=\"http://www.w3.org/2000/svg\" height=\"24px\"viewBox=\"0 0 24 24\"\n",
              "       width=\"24px\">\n",
              "    <path d=\"M0 0h24v24H0V0z\" fill=\"none\"/>\n",
              "    <path d=\"M18.56 5.44l.94 2.06.94-2.06 2.06-.94-2.06-.94-.94-2.06-.94 2.06-2.06.94zm-11 1L8.5 8.5l.94-2.06 2.06-.94-2.06-.94L8.5 2.5l-.94 2.06-2.06.94zm10 10l.94 2.06.94-2.06 2.06-.94-2.06-.94-.94-2.06-.94 2.06-2.06.94z\"/><path d=\"M17.41 7.96l-1.37-1.37c-.4-.4-.92-.59-1.43-.59-.52 0-1.04.2-1.43.59L10.3 9.45l-7.72 7.72c-.78.78-.78 2.05 0 2.83L4 21.41c.39.39.9.59 1.41.59.51 0 1.02-.2 1.41-.59l7.78-7.78 2.81-2.81c.8-.78.8-2.07 0-2.86zM5.41 20L4 18.59l7.72-7.72 1.47 1.35L5.41 20z\"/>\n",
              "  </svg>\n",
              "      </button>\n",
              "      \n",
              "  <style>\n",
              "    .colab-df-container {\n",
              "      display:flex;\n",
              "      flex-wrap:wrap;\n",
              "      gap: 12px;\n",
              "    }\n",
              "\n",
              "    .colab-df-convert {\n",
              "      background-color: #E8F0FE;\n",
              "      border: none;\n",
              "      border-radius: 50%;\n",
              "      cursor: pointer;\n",
              "      display: none;\n",
              "      fill: #1967D2;\n",
              "      height: 32px;\n",
              "      padding: 0 0 0 0;\n",
              "      width: 32px;\n",
              "    }\n",
              "\n",
              "    .colab-df-convert:hover {\n",
              "      background-color: #E2EBFA;\n",
              "      box-shadow: 0px 1px 2px rgba(60, 64, 67, 0.3), 0px 1px 3px 1px rgba(60, 64, 67, 0.15);\n",
              "      fill: #174EA6;\n",
              "    }\n",
              "\n",
              "    [theme=dark] .colab-df-convert {\n",
              "      background-color: #3B4455;\n",
              "      fill: #D2E3FC;\n",
              "    }\n",
              "\n",
              "    [theme=dark] .colab-df-convert:hover {\n",
              "      background-color: #434B5C;\n",
              "      box-shadow: 0px 1px 3px 1px rgba(0, 0, 0, 0.15);\n",
              "      filter: drop-shadow(0px 1px 2px rgba(0, 0, 0, 0.3));\n",
              "      fill: #FFFFFF;\n",
              "    }\n",
              "  </style>\n",
              "\n",
              "      <script>\n",
              "        const buttonEl =\n",
              "          document.querySelector('#df-cbd3a4fa-c880-4fd9-b26c-46f441f42f9b button.colab-df-convert');\n",
              "        buttonEl.style.display =\n",
              "          google.colab.kernel.accessAllowed ? 'block' : 'none';\n",
              "\n",
              "        async function convertToInteractive(key) {\n",
              "          const element = document.querySelector('#df-cbd3a4fa-c880-4fd9-b26c-46f441f42f9b');\n",
              "          const dataTable =\n",
              "            await google.colab.kernel.invokeFunction('convertToInteractive',\n",
              "                                                     [key], {});\n",
              "          if (!dataTable) return;\n",
              "\n",
              "          const docLinkHtml = 'Like what you see? Visit the ' +\n",
              "            '<a target=\"_blank\" href=https://colab.research.google.com/notebooks/data_table.ipynb>data table notebook</a>'\n",
              "            + ' to learn more about interactive tables.';\n",
              "          element.innerHTML = '';\n",
              "          dataTable['output_type'] = 'display_data';\n",
              "          await google.colab.output.renderOutput(dataTable, element);\n",
              "          const docLink = document.createElement('div');\n",
              "          docLink.innerHTML = docLinkHtml;\n",
              "          element.appendChild(docLink);\n",
              "        }\n",
              "      </script>\n",
              "    </div>\n",
              "  </div>\n",
              "  "
            ]
          },
          "metadata": {},
          "execution_count": 24
        }
      ]
    },
    {
      "cell_type": "code",
      "source": [
        "final_df = res_df[['payment_value','price', 'freight_value','product_name_lenght','product_description_lenght', 'product_photos_qty','product_weight_g','product_length_cm', 'product_height_cm','product_width_cm','days_diff_deivery', 'days_diff_est_del', 'class_1_seller_city','class_0_seller_city','class_1_seller_state','days_diff_shp_del','class_0_seller_state','class_1_seller_zip_code_prefix','class_0_seller_zip_code_prefix','class_1_customer_zip_code_prefix','class_0_customer_zip_code_prefix','class_1_customer_city', 'class_0_customer_city','class_1_customer_state', 'class_0_customer_state']]\n",
        "final_text_df = res_df[['review_comment_title','review_comment_message']]\n",
        "class_label_df = res_df['class_label']"
      ],
      "metadata": {
        "id": "bnhUemzotIlx"
      },
      "execution_count": null,
      "outputs": []
    },
    {
      "cell_type": "code",
      "source": [
        "final_df.to_csv(\"finalDF_data.csv\")"
      ],
      "metadata": {
        "id": "H91PjN2vIfA7"
      },
      "execution_count": null,
      "outputs": []
    },
    {
      "cell_type": "code",
      "source": [
        "X_train, X_test, y_train, y_test = train_test_split(final_df, class_label_df, stratify=class_label_df, test_size=0.2, random_state=0)\n",
        "print('Train data:', X_train.shape, y_train.shape)\n",
        "print('Test data:', X_test.shape, y_test.shape)"
      ],
      "metadata": {
        "colab": {
          "base_uri": "https://localhost:8080/"
        },
        "id": "Yn_vAEr2h7UU",
        "outputId": "9adbced4-9640-4f30-b2f5-b846e268ccc1"
      },
      "execution_count": null,
      "outputs": [
        {
          "output_type": "stream",
          "name": "stdout",
          "text": [
            "Train data: (7964, 25) (7964,)\n",
            "Test data: (1991, 25) (1991,)\n"
          ]
        }
      ]
    },
    {
      "cell_type": "code",
      "source": [
        "scaler = StandardScaler()\n",
        "scaler.fit(X_train[['payment_value','price', 'freight_value','product_name_lenght','product_description_lenght', 'product_photos_qty','product_weight_g','product_length_cm', 'product_height_cm','product_width_cm','days_diff_deivery', 'days_diff_est_del', 'class_1_seller_city','class_0_seller_city','class_1_seller_state','days_diff_shp_del','class_0_seller_state','class_1_seller_zip_code_prefix','class_0_seller_zip_code_prefix','class_1_customer_zip_code_prefix','class_0_customer_zip_code_prefix','class_1_customer_city', 'class_0_customer_city','class_1_customer_state', 'class_0_customer_state']])\n",
        "X_train_scaler = scaler.transform(X_train[['payment_value','price', 'freight_value','product_name_lenght','product_description_lenght', 'product_photos_qty','product_weight_g','product_length_cm', 'product_height_cm','product_width_cm','days_diff_deivery', 'days_diff_est_del', 'class_1_seller_city','class_0_seller_city','class_1_seller_state','days_diff_shp_del','class_0_seller_state','class_1_seller_zip_code_prefix','class_0_seller_zip_code_prefix','class_1_customer_zip_code_prefix','class_0_customer_zip_code_prefix','class_1_customer_city', 'class_0_customer_city','class_1_customer_state', 'class_0_customer_state']])\n",
        "X_test_scaler = scaler.transform(X_test[['payment_value','price', 'freight_value','product_name_lenght','product_description_lenght', 'product_photos_qty','product_weight_g','product_length_cm', 'product_height_cm','product_width_cm','days_diff_deivery', 'days_diff_est_del', 'class_1_seller_city','class_0_seller_city','class_1_seller_state','days_diff_shp_del','class_0_seller_state','class_1_seller_zip_code_prefix','class_0_seller_zip_code_prefix','class_1_customer_zip_code_prefix','class_0_customer_zip_code_prefix','class_1_customer_city', 'class_0_customer_city','class_1_customer_state', 'class_0_customer_state']])"
      ],
      "metadata": {
        "id": "LqZKJc1864_x"
      },
      "execution_count": null,
      "outputs": []
    },
    {
      "cell_type": "code",
      "source": [
        "from sklearn.model_selection import StratifiedKFold\n",
        "cv = StratifiedKFold(n_splits=5,shuffle=False)"
      ],
      "metadata": {
        "id": "CYOmEmcqS6J4"
      },
      "execution_count": null,
      "outputs": []
    },
    {
      "cell_type": "markdown",
      "source": [
        "Logistic Regression"
      ],
      "metadata": {
        "id": "PkObgfrbM9gC"
      }
    },
    {
      "cell_type": "code",
      "source": [
        "# import the class\n",
        "from sklearn.linear_model import LogisticRegression\n",
        "\n",
        "# instantiate the model (using the default parameters)\n",
        "logreg = LogisticRegression(C=100, penalty='l2', solver ='newton-cg')\n",
        "\n",
        "# fit the model with data\n",
        "logreg.fit(X_train_scaler,y_train.values.ravel())\n",
        "\n",
        "#\n",
        "y_pred=logreg.predict(X_test_scaler)\n",
        "y_train_pred=logreg.predict(X_train_scaler)"
      ],
      "metadata": {
        "id": "q-LaK2QioFVd"
      },
      "execution_count": null,
      "outputs": []
    },
    {
      "cell_type": "code",
      "source": [
        "# import the metrics class\n",
        "from sklearn import metrics\n",
        "cnf_matrix = metrics.confusion_matrix(y_test, y_pred)\n",
        "cnf_matrix"
      ],
      "metadata": {
        "colab": {
          "base_uri": "https://localhost:8080/"
        },
        "id": "eYyx4B_koXjx",
        "outputId": "bf3e22c4-cd08-4a6e-c06f-1f736ca2c77d"
      },
      "execution_count": null,
      "outputs": [
        {
          "output_type": "execute_result",
          "data": {
            "text/plain": [
              "array([[ 484,  108],\n",
              "       [  71, 1328]])"
            ]
          },
          "metadata": {},
          "execution_count": 18
        }
      ]
    },
    {
      "cell_type": "code",
      "source": [
        "from sklearn.metrics import f1_score\n",
        "f1_score(y_test, y_pred, average='macro')"
      ],
      "metadata": {
        "colab": {
          "base_uri": "https://localhost:8080/"
        },
        "id": "eEKXc_DGoeLp",
        "outputId": "7fca0bbc-10b0-4524-b4e5-3b55a01306c1"
      },
      "execution_count": null,
      "outputs": [
        {
          "output_type": "execute_result",
          "data": {
            "text/plain": [
              "0.8904006925512302"
            ]
          },
          "metadata": {},
          "execution_count": 17
        }
      ]
    },
    {
      "cell_type": "code",
      "source": [
        "print(\"Accuracy:\",metrics.accuracy_score(y_test, y_pred))\n",
        "print(\"Precision:\",metrics.precision_score(y_test, y_pred))\n",
        "print(\"Recall:\",metrics.recall_score(y_test, y_pred))"
      ],
      "metadata": {
        "colab": {
          "base_uri": "https://localhost:8080/"
        },
        "id": "dLV-bIxIptUq",
        "outputId": "0f1840e8-2600-4646-bb33-90bfe0faf168"
      },
      "execution_count": null,
      "outputs": [
        {
          "output_type": "stream",
          "name": "stdout",
          "text": [
            "Accuracy: 0.910095429432446\n",
            "Precision: 0.924791086350975\n",
            "Recall: 0.9492494639027877\n"
          ]
        }
      ]
    },
    {
      "cell_type": "markdown",
      "source": [
        "Train AUC"
      ],
      "metadata": {
        "id": "WWpgmD8fewgw"
      }
    },
    {
      "cell_type": "code",
      "source": [
        "from sklearn import metrics\n",
        "y_pred_proba = logreg.predict_proba(X_train_scaler)[::,1]\n",
        "fpr, tpr, _ = metrics.roc_curve(y_train,  y_pred_proba)\n",
        "auc = metrics.roc_auc_score(y_train, y_pred_proba)\n",
        "plt.plot(fpr,tpr,label=\"data 1, auc=\"+str(auc))\n",
        "plt.legend(loc=4)\n",
        "plt.show()"
      ],
      "metadata": {
        "colab": {
          "base_uri": "https://localhost:8080/",
          "height": 265
        },
        "id": "Ja0tw-SPeTvq",
        "outputId": "f306afe6-31e2-4733-8216-768b15a45900"
      },
      "execution_count": null,
      "outputs": [
        {
          "output_type": "display_data",
          "data": {
            "text/plain": [
              "<Figure size 432x288 with 1 Axes>"
            ],
            "image/png": "[encoded data removed]"
          },
          "metadata": {
            "needs_background": "light"
          }
        }
      ]
    },
    {
      "cell_type": "markdown",
      "source": [
        "Test AUC"
      ],
      "metadata": {
        "id": "u0viD2jEey_Y"
      }
    },
    {
      "cell_type": "code",
      "source": [
        "from sklearn import metrics\n",
        "y_pred_proba = logreg.predict_proba(X_test_scaler)[::,1]\n",
        "fpr, tpr, _ = metrics.roc_curve(y_test,  y_pred_proba)\n",
        "auc = metrics.roc_auc_score(y_test, y_pred_proba)\n",
        "plt.plot(fpr,tpr,label=\"data 1, auc=\"+str(auc))\n",
        "plt.legend(loc=4)\n",
        "plt.show()"
      ],
      "metadata": {
        "colab": {
          "base_uri": "https://localhost:8080/",
          "height": 265
        },
        "id": "AX8cSNWu7Hf1",
        "outputId": "90187222-8425-4e5f-b79f-45631ba977d7"
      },
      "execution_count": null,
      "outputs": [
        {
          "output_type": "display_data",
          "data": {
            "text/plain": [
              "<Figure size 432x288 with 1 Axes>"
            ],
            "image/png": "[encoded data removed]"
          },
          "metadata": {
            "needs_background": "light"
          }
        }
      ]
    },
    {
      "cell_type": "markdown",
      "source": [
        "Random Forest"
      ],
      "metadata": {
        "id": "eNixxTFcvoSs"
      }
    },
    {
      "cell_type": "code",
      "source": [
        "from sklearn.model_selection import RepeatedStratifiedKFold\n",
        "from sklearn.model_selection import GridSearchCV\n",
        "from sklearn.ensemble import RandomForestClassifier\n",
        "from sklearn.metrics import f1_score, make_scorer\n",
        "\n",
        "f1 = make_scorer(f1_score, average='macro')\n",
        "\n",
        "# define models and parameters\n",
        "model = RandomForestClassifier()\n",
        "\n",
        "# define grid search\n",
        "grid = {'max_depth': [10, 20],\n",
        "'max_features': ['auto', 'sqrt'],\n",
        "'min_samples_leaf': [1, 2, 4],\n",
        "'min_samples_split': [2, 5, 10],\n",
        "'n_estimators': [200, 400]\n",
        "}\n",
        "cv = RepeatedStratifiedKFold(n_splits=10, n_repeats=3, random_state=1)\n",
        "#scoring =['recall','roc_auc','f1','precision']\n",
        "grid_search = GridSearchCV(estimator=model, param_grid=grid, n_jobs=-1, cv=cv, scoring=f1,error_score=0)\n",
        "grid_result = grid_search.fit(final_df, class_label_df)\n",
        "# summarize results\n",
        "print(\"Best: %f using %s\" % (grid_result.best_score_, grid_result.best_params_))\n",
        "means = grid_result.cv_results_['mean_test_score']\n",
        "stds = grid_result.cv_results_['std_test_score']\n",
        "params = grid_result.cv_results_['params']\n",
        "for mean, stdev, param in zip(means, stds, params):\n",
        "    print(\"%f (%f) with: %r\" % (mean, stdev, param))"
      ],
      "metadata": {
        "colab": {
          "base_uri": "https://localhost:8080/"
        },
        "id": "ew1fAUv8vgyA",
        "outputId": "f9d8e794-807a-4b50-f981-2ae935afc4a5"
      },
      "execution_count": null,
      "outputs": [
        {
          "output_type": "stream",
          "name": "stdout",
          "text": [
            "Best: 0.892400 using {'max_depth': 20, 'max_features': 'sqrt', 'min_samples_leaf': 1, 'min_samples_split': 5, 'n_estimators': 200}\n",
            "0.889133 (0.009459) with: {'max_depth': 10, 'max_features': 'auto', 'min_samples_leaf': 1, 'min_samples_split': 2, 'n_estimators': 200}\n",
            "0.889194 (0.009470) with: {'max_depth': 10, 'max_features': 'auto', 'min_samples_leaf': 1, 'min_samples_split': 2, 'n_estimators': 400}\n",
            "0.889900 (0.009557) with: {'max_depth': 10, 'max_features': 'auto', 'min_samples_leaf': 1, 'min_samples_split': 5, 'n_estimators': 200}\n",
            "0.889186 (0.009515) with: {'max_depth': 10, 'max_features': 'auto', 'min_samples_leaf': 1, 'min_samples_split': 5, 'n_estimators': 400}\n",
            "0.888546 (0.010057) with: {'max_depth': 10, 'max_features': 'auto', 'min_samples_leaf': 1, 'min_samples_split': 10, 'n_estimators': 200}\n",
            "0.888896 (0.009683) with: {'max_depth': 10, 'max_features': 'auto', 'min_samples_leaf': 1, 'min_samples_split': 10, 'n_estimators': 400}\n",
            "0.888338 (0.009882) with: {'max_depth': 10, 'max_features': 'auto', 'min_samples_leaf': 2, 'min_samples_split': 2, 'n_estimators': 200}\n",
            "0.889334 (0.009761) with: {'max_depth': 10, 'max_features': 'auto', 'min_samples_leaf': 2, 'min_samples_split': 2, 'n_estimators': 400}\n",
            "0.888915 (0.010162) with: {'max_depth': 10, 'max_features': 'auto', 'min_samples_leaf': 2, 'min_samples_split': 5, 'n_estimators': 200}\n",
            "0.889592 (0.009358) with: {'max_depth': 10, 'max_features': 'auto', 'min_samples_leaf': 2, 'min_samples_split': 5, 'n_estimators': 400}\n",
            "0.888797 (0.009639) with: {'max_depth': 10, 'max_features': 'auto', 'min_samples_leaf': 2, 'min_samples_split': 10, 'n_estimators': 200}\n",
            "0.888979 (0.008667) with: {'max_depth': 10, 'max_features': 'auto', 'min_samples_leaf': 2, 'min_samples_split': 10, 'n_estimators': 400}\n",
            "0.890181 (0.009164) with: {'max_depth': 10, 'max_features': 'auto', 'min_samples_leaf': 4, 'min_samples_split': 2, 'n_estimators': 200}\n",
            "0.889110 (0.009582) with: {'max_depth': 10, 'max_features': 'auto', 'min_samples_leaf': 4, 'min_samples_split': 2, 'n_estimators': 400}\n",
            "0.889068 (0.008636) with: {'max_depth': 10, 'max_features': 'auto', 'min_samples_leaf': 4, 'min_samples_split': 5, 'n_estimators': 200}\n",
            "0.888752 (0.009864) with: {'max_depth': 10, 'max_features': 'auto', 'min_samples_leaf': 4, 'min_samples_split': 5, 'n_estimators': 400}\n",
            "0.889004 (0.009074) with: {'max_depth': 10, 'max_features': 'auto', 'min_samples_leaf': 4, 'min_samples_split': 10, 'n_estimators': 200}\n",
            "0.888961 (0.009339) with: {'max_depth': 10, 'max_features': 'auto', 'min_samples_leaf': 4, 'min_samples_split': 10, 'n_estimators': 400}\n",
            "0.888021 (0.009357) with: {'max_depth': 10, 'max_features': 'sqrt', 'min_samples_leaf': 1, 'min_samples_split': 2, 'n_estimators': 200}\n",
            "0.889758 (0.008851) with: {'max_depth': 10, 'max_features': 'sqrt', 'min_samples_leaf': 1, 'min_samples_split': 2, 'n_estimators': 400}\n",
            "0.889213 (0.009374) with: {'max_depth': 10, 'max_features': 'sqrt', 'min_samples_leaf': 1, 'min_samples_split': 5, 'n_estimators': 200}\n",
            "0.889406 (0.009084) with: {'max_depth': 10, 'max_features': 'sqrt', 'min_samples_leaf': 1, 'min_samples_split': 5, 'n_estimators': 400}\n",
            "0.889536 (0.009461) with: {'max_depth': 10, 'max_features': 'sqrt', 'min_samples_leaf': 1, 'min_samples_split': 10, 'n_estimators': 200}\n",
            "0.888902 (0.009499) with: {'max_depth': 10, 'max_features': 'sqrt', 'min_samples_leaf': 1, 'min_samples_split': 10, 'n_estimators': 400}\n",
            "0.888561 (0.009804) with: {'max_depth': 10, 'max_features': 'sqrt', 'min_samples_leaf': 2, 'min_samples_split': 2, 'n_estimators': 200}\n",
            "0.889954 (0.008955) with: {'max_depth': 10, 'max_features': 'sqrt', 'min_samples_leaf': 2, 'min_samples_split': 2, 'n_estimators': 400}\n",
            "0.888772 (0.009402) with: {'max_depth': 10, 'max_features': 'sqrt', 'min_samples_leaf': 2, 'min_samples_split': 5, 'n_estimators': 200}\n",
            "0.889982 (0.009617) with: {'max_depth': 10, 'max_features': 'sqrt', 'min_samples_leaf': 2, 'min_samples_split': 5, 'n_estimators': 400}\n",
            "0.888877 (0.010246) with: {'max_depth': 10, 'max_features': 'sqrt', 'min_samples_leaf': 2, 'min_samples_split': 10, 'n_estimators': 200}\n",
            "0.888429 (0.009093) with: {'max_depth': 10, 'max_features': 'sqrt', 'min_samples_leaf': 2, 'min_samples_split': 10, 'n_estimators': 400}\n",
            "0.888953 (0.010449) with: {'max_depth': 10, 'max_features': 'sqrt', 'min_samples_leaf': 4, 'min_samples_split': 2, 'n_estimators': 200}\n",
            "0.889704 (0.008830) with: {'max_depth': 10, 'max_features': 'sqrt', 'min_samples_leaf': 4, 'min_samples_split': 2, 'n_estimators': 400}\n",
            "0.889040 (0.009523) with: {'max_depth': 10, 'max_features': 'sqrt', 'min_samples_leaf': 4, 'min_samples_split': 5, 'n_estimators': 200}\n",
            "0.888371 (0.009473) with: {'max_depth': 10, 'max_features': 'sqrt', 'min_samples_leaf': 4, 'min_samples_split': 5, 'n_estimators': 400}\n",
            "0.888821 (0.009789) with: {'max_depth': 10, 'max_features': 'sqrt', 'min_samples_leaf': 4, 'min_samples_split': 10, 'n_estimators': 200}\n",
            "0.888482 (0.009554) with: {'max_depth': 10, 'max_features': 'sqrt', 'min_samples_leaf': 4, 'min_samples_split': 10, 'n_estimators': 400}\n",
            "0.890763 (0.010534) with: {'max_depth': 20, 'max_features': 'auto', 'min_samples_leaf': 1, 'min_samples_split': 2, 'n_estimators': 200}\n",
            "0.891881 (0.011118) with: {'max_depth': 20, 'max_features': 'auto', 'min_samples_leaf': 1, 'min_samples_split': 2, 'n_estimators': 400}\n",
            "0.891713 (0.009820) with: {'max_depth': 20, 'max_features': 'auto', 'min_samples_leaf': 1, 'min_samples_split': 5, 'n_estimators': 200}\n",
            "0.891943 (0.010780) with: {'max_depth': 20, 'max_features': 'auto', 'min_samples_leaf': 1, 'min_samples_split': 5, 'n_estimators': 400}\n",
            "0.891643 (0.010296) with: {'max_depth': 20, 'max_features': 'auto', 'min_samples_leaf': 1, 'min_samples_split': 10, 'n_estimators': 200}\n",
            "0.891099 (0.010880) with: {'max_depth': 20, 'max_features': 'auto', 'min_samples_leaf': 1, 'min_samples_split': 10, 'n_estimators': 400}\n",
            "0.890737 (0.009638) with: {'max_depth': 20, 'max_features': 'auto', 'min_samples_leaf': 2, 'min_samples_split': 2, 'n_estimators': 200}\n",
            "0.890614 (0.010385) with: {'max_depth': 20, 'max_features': 'auto', 'min_samples_leaf': 2, 'min_samples_split': 2, 'n_estimators': 400}\n",
            "0.891085 (0.010187) with: {'max_depth': 20, 'max_features': 'auto', 'min_samples_leaf': 2, 'min_samples_split': 5, 'n_estimators': 200}\n",
            "0.891460 (0.010428) with: {'max_depth': 20, 'max_features': 'auto', 'min_samples_leaf': 2, 'min_samples_split': 5, 'n_estimators': 400}\n",
            "0.890569 (0.009495) with: {'max_depth': 20, 'max_features': 'auto', 'min_samples_leaf': 2, 'min_samples_split': 10, 'n_estimators': 200}\n",
            "0.890703 (0.010274) with: {'max_depth': 20, 'max_features': 'auto', 'min_samples_leaf': 2, 'min_samples_split': 10, 'n_estimators': 400}\n",
            "0.891791 (0.009144) with: {'max_depth': 20, 'max_features': 'auto', 'min_samples_leaf': 4, 'min_samples_split': 2, 'n_estimators': 200}\n",
            "0.891454 (0.010209) with: {'max_depth': 20, 'max_features': 'auto', 'min_samples_leaf': 4, 'min_samples_split': 2, 'n_estimators': 400}\n",
            "0.890957 (0.009136) with: {'max_depth': 20, 'max_features': 'auto', 'min_samples_leaf': 4, 'min_samples_split': 5, 'n_estimators': 200}\n",
            "0.891023 (0.010610) with: {'max_depth': 20, 'max_features': 'auto', 'min_samples_leaf': 4, 'min_samples_split': 5, 'n_estimators': 400}\n",
            "0.890901 (0.010189) with: {'max_depth': 20, 'max_features': 'auto', 'min_samples_leaf': 4, 'min_samples_split': 10, 'n_estimators': 200}\n",
            "0.890880 (0.009995) with: {'max_depth': 20, 'max_features': 'auto', 'min_samples_leaf': 4, 'min_samples_split': 10, 'n_estimators': 400}\n",
            "0.891898 (0.011024) with: {'max_depth': 20, 'max_features': 'sqrt', 'min_samples_leaf': 1, 'min_samples_split': 2, 'n_estimators': 200}\n",
            "0.891553 (0.010316) with: {'max_depth': 20, 'max_features': 'sqrt', 'min_samples_leaf': 1, 'min_samples_split': 2, 'n_estimators': 400}\n",
            "0.892400 (0.010692) with: {'max_depth': 20, 'max_features': 'sqrt', 'min_samples_leaf': 1, 'min_samples_split': 5, 'n_estimators': 200}\n",
            "0.891909 (0.011218) with: {'max_depth': 20, 'max_features': 'sqrt', 'min_samples_leaf': 1, 'min_samples_split': 5, 'n_estimators': 400}\n",
            "0.891825 (0.010301) with: {'max_depth': 20, 'max_features': 'sqrt', 'min_samples_leaf': 1, 'min_samples_split': 10, 'n_estimators': 200}\n",
            "0.891117 (0.010479) with: {'max_depth': 20, 'max_features': 'sqrt', 'min_samples_leaf': 1, 'min_samples_split': 10, 'n_estimators': 400}\n",
            "0.891928 (0.010748) with: {'max_depth': 20, 'max_features': 'sqrt', 'min_samples_leaf': 2, 'min_samples_split': 2, 'n_estimators': 200}\n",
            "0.892022 (0.010570) with: {'max_depth': 20, 'max_features': 'sqrt', 'min_samples_leaf': 2, 'min_samples_split': 2, 'n_estimators': 400}\n",
            "0.891665 (0.010225) with: {'max_depth': 20, 'max_features': 'sqrt', 'min_samples_leaf': 2, 'min_samples_split': 5, 'n_estimators': 200}\n",
            "0.892218 (0.010146) with: {'max_depth': 20, 'max_features': 'sqrt', 'min_samples_leaf': 2, 'min_samples_split': 5, 'n_estimators': 400}\n",
            "0.891534 (0.010216) with: {'max_depth': 20, 'max_features': 'sqrt', 'min_samples_leaf': 2, 'min_samples_split': 10, 'n_estimators': 200}\n",
            "0.890828 (0.009801) with: {'max_depth': 20, 'max_features': 'sqrt', 'min_samples_leaf': 2, 'min_samples_split': 10, 'n_estimators': 400}\n",
            "0.890655 (0.009756) with: {'max_depth': 20, 'max_features': 'sqrt', 'min_samples_leaf': 4, 'min_samples_split': 2, 'n_estimators': 200}\n",
            "0.890427 (0.010234) with: {'max_depth': 20, 'max_features': 'sqrt', 'min_samples_leaf': 4, 'min_samples_split': 2, 'n_estimators': 400}\n",
            "0.891445 (0.009624) with: {'max_depth': 20, 'max_features': 'sqrt', 'min_samples_leaf': 4, 'min_samples_split': 5, 'n_estimators': 200}\n",
            "0.890714 (0.010395) with: {'max_depth': 20, 'max_features': 'sqrt', 'min_samples_leaf': 4, 'min_samples_split': 5, 'n_estimators': 400}\n",
            "0.890824 (0.009692) with: {'max_depth': 20, 'max_features': 'sqrt', 'min_samples_leaf': 4, 'min_samples_split': 10, 'n_estimators': 200}\n",
            "0.890301 (0.010622) with: {'max_depth': 20, 'max_features': 'sqrt', 'min_samples_leaf': 4, 'min_samples_split': 10, 'n_estimators': 400}\n"
          ]
        }
      ]
    },
    {
      "cell_type": "code",
      "source": [
        "from sklearn.ensemble import RandomForestClassifier\n",
        "#\n",
        "# Train the mode\n",
        "#\n",
        "forest = RandomForestClassifier(max_depth=20,max_features='sqrt',min_samples_leaf=1, min_samples_split=5, n_estimators=200)\n",
        "forest.fit(X_train, y_train.values.ravel())\n",
        "#\n",
        "y_pred=forest.predict(X_test)\n",
        "\n",
        "# import the metrics class\n",
        "from sklearn import metrics\n",
        "cnf_matrix = metrics.confusion_matrix(y_test, y_pred)\n",
        "cnf_matrix\n"
      ],
      "metadata": {
        "colab": {
          "base_uri": "https://localhost:8080/"
        },
        "id": "A1g7hJqip6ai",
        "outputId": "d37a3223-714c-4dca-801e-133f36dc4391"
      },
      "execution_count": null,
      "outputs": [
        {
          "output_type": "execute_result",
          "data": {
            "text/plain": [
              "array([[ 493,   99],\n",
              "       [  75, 1324]])"
            ]
          },
          "metadata": {},
          "execution_count": 15
        }
      ]
    },
    {
      "cell_type": "code",
      "source": [
        "from sklearn.metrics import f1_score\n",
        "f1_score(y_test, y_pred, average='macro')"
      ],
      "metadata": {
        "colab": {
          "base_uri": "https://localhost:8080/"
        },
        "id": "-PtpL5rtqJK0",
        "outputId": "b7dd2af5-7482-4de3-e76f-fbf0509fa093"
      },
      "execution_count": null,
      "outputs": [
        {
          "output_type": "execute_result",
          "data": {
            "text/plain": [
              "0.8941708008504606"
            ]
          },
          "metadata": {},
          "execution_count": 16
        }
      ]
    },
    {
      "cell_type": "code",
      "source": [
        "print(\"Accuracy:\",metrics.accuracy_score(y_test, y_pred))\n",
        "print(\"Precision:\",metrics.precision_score(y_test, y_pred))\n",
        "print(\"Recall:\",metrics.recall_score(y_test, y_pred))"
      ],
      "metadata": {
        "colab": {
          "base_uri": "https://localhost:8080/"
        },
        "id": "fUkNigyKqPZ5",
        "outputId": "73513fb6-23f7-498d-dae3-ec5b46b45417"
      },
      "execution_count": null,
      "outputs": [
        {
          "output_type": "stream",
          "name": "stdout",
          "text": [
            "Accuracy: 0.9136112506278252\n",
            "Precision: 0.9323467230443975\n",
            "Recall: 0.9456754824874911\n"
          ]
        }
      ]
    },
    {
      "cell_type": "markdown",
      "source": [
        "Train AUC"
      ],
      "metadata": {
        "id": "pJMbwhfffJvP"
      }
    },
    {
      "cell_type": "code",
      "source": [
        "from sklearn import metrics\n",
        "y_pred_proba = forest.predict_proba(X_train)[::,1]\n",
        "fpr, tpr, _ = metrics.roc_curve(y_train,  y_pred_proba)\n",
        "auc = metrics.roc_auc_score(y_train, y_pred_proba)\n",
        "plt.plot(fpr,tpr,label=\"data 1, auc=\"+str(auc))\n",
        "plt.legend(loc=4)\n",
        "plt.show()"
      ],
      "metadata": {
        "colab": {
          "base_uri": "https://localhost:8080/",
          "height": 265
        },
        "id": "u1lQtm1jfC9H",
        "outputId": "8f165839-36bd-4578-e816-c629d0001baa"
      },
      "execution_count": null,
      "outputs": [
        {
          "output_type": "display_data",
          "data": {
            "text/plain": [
              "<Figure size 432x288 with 1 Axes>"
            ],
            "image/png": "[encoded data removed]"
          },
          "metadata": {
            "needs_background": "light"
          }
        }
      ]
    },
    {
      "cell_type": "markdown",
      "source": [
        "Test AUC"
      ],
      "metadata": {
        "id": "I28FDECYfLZs"
      }
    },
    {
      "cell_type": "code",
      "source": [
        "y_pred_proba = forest.predict_proba(X_test)[::,1]\n",
        "fpr, tpr, _ = metrics.roc_curve(y_test,  y_pred_proba)\n",
        "auc = metrics.roc_auc_score(y_test, y_pred_proba)\n",
        "plt.plot(fpr,tpr,label=\"data 1, auc=\"+str(auc))\n",
        "plt.legend(loc=4)\n",
        "plt.show()"
      ],
      "metadata": {
        "colab": {
          "base_uri": "https://localhost:8080/",
          "height": 265
        },
        "id": "WqWkckw_7EeZ",
        "outputId": "8ad115e0-5212-4ff3-8ffd-e0e405f83852"
      },
      "execution_count": null,
      "outputs": [
        {
          "output_type": "display_data",
          "data": {
            "text/plain": [
              "<Figure size 432x288 with 1 Axes>"
            ],
            "image/png": "[encoded data removed]"
          },
          "metadata": {
            "needs_background": "light"
          }
        }
      ]
    },
    {
      "cell_type": "code",
      "source": [
        "\n",
        "# pickling the model\n",
        "import pickle\n",
        "pickle_out = open(\"classifier.pkl\", \"wb\")\n",
        "pickle.dump(forest, pickle_out)\n",
        "pickle_out.close()"
      ],
      "metadata": {
        "id": "4CCGBY9q5dUy"
      },
      "execution_count": null,
      "outputs": []
    },
    {
      "cell_type": "markdown",
      "source": [
        "XGBoost Model"
      ],
      "metadata": {
        "id": "i_29bCWDtO1g"
      }
    },
    {
      "cell_type": "code",
      "source": [
        "from xgboost import XGBClassifier\n",
        "from sklearn.model_selection import RepeatedStratifiedKFold\n",
        "from sklearn.model_selection import GridSearchCV\n",
        "\n",
        "space={'max_depth': [3,1],'gamma': [1,9],'reg_alpha' :[40,1],'reg_lambda' :[0,1],'colsample_bytree' : [0.5,1],'min_child_weight' : [0, 1],'n_estimators': [10]}\n",
        "\n",
        "\n",
        "# define models and parameters\n",
        "model = XGBClassifier()\n",
        "\n",
        "# define grid search\n",
        "#grid = {'C': [0.1, 1],'gamma': [1, 0.1]}\n",
        "cv = RepeatedStratifiedKFold(n_splits=10, n_repeats=3, random_state=1)\n",
        "#scoring =['recall','roc_auc','f1','precision']\n",
        "grid_search = GridSearchCV(estimator=model, param_grid=space, n_jobs=-1, cv=cv, scoring='roc_auc',error_score=0)\n",
        "grid_result = grid_search.fit(final_df, class_label_df)\n",
        "# summarize results\n",
        "print(\"Best: %f using %s\" % (grid_result.best_score_, grid_result.best_params_))\n",
        "means = grid_result.cv_results_['mean_test_score']\n",
        "stds = grid_result.cv_results_['std_test_score']\n",
        "params = grid_result.cv_results_['params']\n",
        "for mean, stdev, param in zip(means, stds, params):\n",
        "    print(\"%f (%f) with: %r\" % (mean, stdev, param))"
      ],
      "metadata": {
        "colab": {
          "base_uri": "https://localhost:8080/"
        },
        "id": "Q9jbBdVCtC7v",
        "outputId": "609fa4f6-a03a-4fdb-ca9c-8a1104b6af12"
      },
      "execution_count": null,
      "outputs": [
        {
          "output_type": "stream",
          "name": "stdout",
          "text": [
            "Best: 0.968870 using {'colsample_bytree': 0.5, 'gamma': 1, 'max_depth': 3, 'min_child_weight': 1, 'n_estimators': 10, 'reg_alpha': 1, 'reg_lambda': 0}\n",
            "0.966114 (0.004240) with: {'colsample_bytree': 0.5, 'gamma': 1, 'max_depth': 3, 'min_child_weight': 0, 'n_estimators': 10, 'reg_alpha': 40, 'reg_lambda': 0}\n",
            "0.966034 (0.004249) with: {'colsample_bytree': 0.5, 'gamma': 1, 'max_depth': 3, 'min_child_weight': 0, 'n_estimators': 10, 'reg_alpha': 40, 'reg_lambda': 1}\n",
            "0.968821 (0.004078) with: {'colsample_bytree': 0.5, 'gamma': 1, 'max_depth': 3, 'min_child_weight': 0, 'n_estimators': 10, 'reg_alpha': 1, 'reg_lambda': 0}\n",
            "0.968738 (0.004125) with: {'colsample_bytree': 0.5, 'gamma': 1, 'max_depth': 3, 'min_child_weight': 0, 'n_estimators': 10, 'reg_alpha': 1, 'reg_lambda': 1}\n",
            "0.966063 (0.004263) with: {'colsample_bytree': 0.5, 'gamma': 1, 'max_depth': 3, 'min_child_weight': 1, 'n_estimators': 10, 'reg_alpha': 40, 'reg_lambda': 0}\n",
            "0.966026 (0.004234) with: {'colsample_bytree': 0.5, 'gamma': 1, 'max_depth': 3, 'min_child_weight': 1, 'n_estimators': 10, 'reg_alpha': 40, 'reg_lambda': 1}\n",
            "0.968870 (0.004035) with: {'colsample_bytree': 0.5, 'gamma': 1, 'max_depth': 3, 'min_child_weight': 1, 'n_estimators': 10, 'reg_alpha': 1, 'reg_lambda': 0}\n",
            "0.968754 (0.004129) with: {'colsample_bytree': 0.5, 'gamma': 1, 'max_depth': 3, 'min_child_weight': 1, 'n_estimators': 10, 'reg_alpha': 1, 'reg_lambda': 1}\n",
            "0.951666 (0.005278) with: {'colsample_bytree': 0.5, 'gamma': 1, 'max_depth': 1, 'min_child_weight': 0, 'n_estimators': 10, 'reg_alpha': 40, 'reg_lambda': 0}\n",
            "0.951633 (0.005320) with: {'colsample_bytree': 0.5, 'gamma': 1, 'max_depth': 1, 'min_child_weight': 0, 'n_estimators': 10, 'reg_alpha': 40, 'reg_lambda': 1}\n",
            "0.952625 (0.005001) with: {'colsample_bytree': 0.5, 'gamma': 1, 'max_depth': 1, 'min_child_weight': 0, 'n_estimators': 10, 'reg_alpha': 1, 'reg_lambda': 0}\n",
            "0.952496 (0.005183) with: {'colsample_bytree': 0.5, 'gamma': 1, 'max_depth': 1, 'min_child_weight': 0, 'n_estimators': 10, 'reg_alpha': 1, 'reg_lambda': 1}\n",
            "0.951666 (0.005278) with: {'colsample_bytree': 0.5, 'gamma': 1, 'max_depth': 1, 'min_child_weight': 1, 'n_estimators': 10, 'reg_alpha': 40, 'reg_lambda': 0}\n",
            "0.951633 (0.005320) with: {'colsample_bytree': 0.5, 'gamma': 1, 'max_depth': 1, 'min_child_weight': 1, 'n_estimators': 10, 'reg_alpha': 40, 'reg_lambda': 1}\n",
            "0.952625 (0.005001) with: {'colsample_bytree': 0.5, 'gamma': 1, 'max_depth': 1, 'min_child_weight': 1, 'n_estimators': 10, 'reg_alpha': 1, 'reg_lambda': 0}\n",
            "0.952496 (0.005183) with: {'colsample_bytree': 0.5, 'gamma': 1, 'max_depth': 1, 'min_child_weight': 1, 'n_estimators': 10, 'reg_alpha': 1, 'reg_lambda': 1}\n",
            "0.965935 (0.004388) with: {'colsample_bytree': 0.5, 'gamma': 9, 'max_depth': 3, 'min_child_weight': 0, 'n_estimators': 10, 'reg_alpha': 40, 'reg_lambda': 0}\n",
            "0.965967 (0.004378) with: {'colsample_bytree': 0.5, 'gamma': 9, 'max_depth': 3, 'min_child_weight': 0, 'n_estimators': 10, 'reg_alpha': 40, 'reg_lambda': 1}\n",
            "0.968736 (0.004100) with: {'colsample_bytree': 0.5, 'gamma': 9, 'max_depth': 3, 'min_child_weight': 0, 'n_estimators': 10, 'reg_alpha': 1, 'reg_lambda': 0}\n",
            "0.968779 (0.004115) with: {'colsample_bytree': 0.5, 'gamma': 9, 'max_depth': 3, 'min_child_weight': 0, 'n_estimators': 10, 'reg_alpha': 1, 'reg_lambda': 1}\n",
            "0.965935 (0.004388) with: {'colsample_bytree': 0.5, 'gamma': 9, 'max_depth': 3, 'min_child_weight': 1, 'n_estimators': 10, 'reg_alpha': 40, 'reg_lambda': 0}\n",
            "0.965967 (0.004378) with: {'colsample_bytree': 0.5, 'gamma': 9, 'max_depth': 3, 'min_child_weight': 1, 'n_estimators': 10, 'reg_alpha': 40, 'reg_lambda': 1}\n",
            "0.968736 (0.004100) with: {'colsample_bytree': 0.5, 'gamma': 9, 'max_depth': 3, 'min_child_weight': 1, 'n_estimators': 10, 'reg_alpha': 1, 'reg_lambda': 0}\n",
            "0.968779 (0.004115) with: {'colsample_bytree': 0.5, 'gamma': 9, 'max_depth': 3, 'min_child_weight': 1, 'n_estimators': 10, 'reg_alpha': 1, 'reg_lambda': 1}\n",
            "0.951666 (0.005278) with: {'colsample_bytree': 0.5, 'gamma': 9, 'max_depth': 1, 'min_child_weight': 0, 'n_estimators': 10, 'reg_alpha': 40, 'reg_lambda': 0}\n",
            "0.951633 (0.005320) with: {'colsample_bytree': 0.5, 'gamma': 9, 'max_depth': 1, 'min_child_weight': 0, 'n_estimators': 10, 'reg_alpha': 40, 'reg_lambda': 1}\n",
            "0.952625 (0.005001) with: {'colsample_bytree': 0.5, 'gamma': 9, 'max_depth': 1, 'min_child_weight': 0, 'n_estimators': 10, 'reg_alpha': 1, 'reg_lambda': 0}\n",
            "0.952496 (0.005183) with: {'colsample_bytree': 0.5, 'gamma': 9, 'max_depth': 1, 'min_child_weight': 0, 'n_estimators': 10, 'reg_alpha': 1, 'reg_lambda': 1}\n",
            "0.951666 (0.005278) with: {'colsample_bytree': 0.5, 'gamma': 9, 'max_depth': 1, 'min_child_weight': 1, 'n_estimators': 10, 'reg_alpha': 40, 'reg_lambda': 0}\n",
            "0.951633 (0.005320) with: {'colsample_bytree': 0.5, 'gamma': 9, 'max_depth': 1, 'min_child_weight': 1, 'n_estimators': 10, 'reg_alpha': 40, 'reg_lambda': 1}\n",
            "0.952625 (0.005001) with: {'colsample_bytree': 0.5, 'gamma': 9, 'max_depth': 1, 'min_child_weight': 1, 'n_estimators': 10, 'reg_alpha': 1, 'reg_lambda': 0}\n",
            "0.952496 (0.005183) with: {'colsample_bytree': 0.5, 'gamma': 9, 'max_depth': 1, 'min_child_weight': 1, 'n_estimators': 10, 'reg_alpha': 1, 'reg_lambda': 1}\n",
            "0.965072 (0.004644) with: {'colsample_bytree': 1, 'gamma': 1, 'max_depth': 3, 'min_child_weight': 0, 'n_estimators': 10, 'reg_alpha': 40, 'reg_lambda': 0}\n",
            "0.965020 (0.004684) with: {'colsample_bytree': 1, 'gamma': 1, 'max_depth': 3, 'min_child_weight': 0, 'n_estimators': 10, 'reg_alpha': 40, 'reg_lambda': 1}\n",
            "0.968054 (0.003753) with: {'colsample_bytree': 1, 'gamma': 1, 'max_depth': 3, 'min_child_weight': 0, 'n_estimators': 10, 'reg_alpha': 1, 'reg_lambda': 0}\n",
            "0.968065 (0.003766) with: {'colsample_bytree': 1, 'gamma': 1, 'max_depth': 3, 'min_child_weight': 0, 'n_estimators': 10, 'reg_alpha': 1, 'reg_lambda': 1}\n",
            "0.965048 (0.004667) with: {'colsample_bytree': 1, 'gamma': 1, 'max_depth': 3, 'min_child_weight': 1, 'n_estimators': 10, 'reg_alpha': 40, 'reg_lambda': 0}\n",
            "0.964932 (0.004694) with: {'colsample_bytree': 1, 'gamma': 1, 'max_depth': 3, 'min_child_weight': 1, 'n_estimators': 10, 'reg_alpha': 40, 'reg_lambda': 1}\n",
            "0.968053 (0.003761) with: {'colsample_bytree': 1, 'gamma': 1, 'max_depth': 3, 'min_child_weight': 1, 'n_estimators': 10, 'reg_alpha': 1, 'reg_lambda': 0}\n",
            "0.968043 (0.003760) with: {'colsample_bytree': 1, 'gamma': 1, 'max_depth': 3, 'min_child_weight': 1, 'n_estimators': 10, 'reg_alpha': 1, 'reg_lambda': 1}\n",
            "0.947896 (0.006399) with: {'colsample_bytree': 1, 'gamma': 1, 'max_depth': 1, 'min_child_weight': 0, 'n_estimators': 10, 'reg_alpha': 40, 'reg_lambda': 0}\n",
            "0.947896 (0.006399) with: {'colsample_bytree': 1, 'gamma': 1, 'max_depth': 1, 'min_child_weight': 0, 'n_estimators': 10, 'reg_alpha': 40, 'reg_lambda': 1}\n",
            "0.948435 (0.005767) with: {'colsample_bytree': 1, 'gamma': 1, 'max_depth': 1, 'min_child_weight': 0, 'n_estimators': 10, 'reg_alpha': 1, 'reg_lambda': 0}\n",
            "0.948431 (0.005760) with: {'colsample_bytree': 1, 'gamma': 1, 'max_depth': 1, 'min_child_weight': 0, 'n_estimators': 10, 'reg_alpha': 1, 'reg_lambda': 1}\n",
            "0.947896 (0.006399) with: {'colsample_bytree': 1, 'gamma': 1, 'max_depth': 1, 'min_child_weight': 1, 'n_estimators': 10, 'reg_alpha': 40, 'reg_lambda': 0}\n",
            "0.947896 (0.006399) with: {'colsample_bytree': 1, 'gamma': 1, 'max_depth': 1, 'min_child_weight': 1, 'n_estimators': 10, 'reg_alpha': 40, 'reg_lambda': 1}\n",
            "0.948435 (0.005767) with: {'colsample_bytree': 1, 'gamma': 1, 'max_depth': 1, 'min_child_weight': 1, 'n_estimators': 10, 'reg_alpha': 1, 'reg_lambda': 0}\n",
            "0.948431 (0.005760) with: {'colsample_bytree': 1, 'gamma': 1, 'max_depth': 1, 'min_child_weight': 1, 'n_estimators': 10, 'reg_alpha': 1, 'reg_lambda': 1}\n",
            "0.964877 (0.004709) with: {'colsample_bytree': 1, 'gamma': 9, 'max_depth': 3, 'min_child_weight': 0, 'n_estimators': 10, 'reg_alpha': 40, 'reg_lambda': 0}\n",
            "0.964795 (0.004810) with: {'colsample_bytree': 1, 'gamma': 9, 'max_depth': 3, 'min_child_weight': 0, 'n_estimators': 10, 'reg_alpha': 40, 'reg_lambda': 1}\n",
            "0.968083 (0.003732) with: {'colsample_bytree': 1, 'gamma': 9, 'max_depth': 3, 'min_child_weight': 0, 'n_estimators': 10, 'reg_alpha': 1, 'reg_lambda': 0}\n",
            "0.968143 (0.003735) with: {'colsample_bytree': 1, 'gamma': 9, 'max_depth': 3, 'min_child_weight': 0, 'n_estimators': 10, 'reg_alpha': 1, 'reg_lambda': 1}\n",
            "0.964877 (0.004709) with: {'colsample_bytree': 1, 'gamma': 9, 'max_depth': 3, 'min_child_weight': 1, 'n_estimators': 10, 'reg_alpha': 40, 'reg_lambda': 0}\n",
            "0.964795 (0.004810) with: {'colsample_bytree': 1, 'gamma': 9, 'max_depth': 3, 'min_child_weight': 1, 'n_estimators': 10, 'reg_alpha': 40, 'reg_lambda': 1}\n",
            "0.968083 (0.003732) with: {'colsample_bytree': 1, 'gamma': 9, 'max_depth': 3, 'min_child_weight': 1, 'n_estimators': 10, 'reg_alpha': 1, 'reg_lambda': 0}\n",
            "0.968143 (0.003735) with: {'colsample_bytree': 1, 'gamma': 9, 'max_depth': 3, 'min_child_weight': 1, 'n_estimators': 10, 'reg_alpha': 1, 'reg_lambda': 1}\n",
            "0.947896 (0.006399) with: {'colsample_bytree': 1, 'gamma': 9, 'max_depth': 1, 'min_child_weight': 0, 'n_estimators': 10, 'reg_alpha': 40, 'reg_lambda': 0}\n",
            "0.947896 (0.006399) with: {'colsample_bytree': 1, 'gamma': 9, 'max_depth': 1, 'min_child_weight': 0, 'n_estimators': 10, 'reg_alpha': 40, 'reg_lambda': 1}\n",
            "0.948435 (0.005767) with: {'colsample_bytree': 1, 'gamma': 9, 'max_depth': 1, 'min_child_weight': 0, 'n_estimators': 10, 'reg_alpha': 1, 'reg_lambda': 0}\n",
            "0.948431 (0.005760) with: {'colsample_bytree': 1, 'gamma': 9, 'max_depth': 1, 'min_child_weight': 0, 'n_estimators': 10, 'reg_alpha': 1, 'reg_lambda': 1}\n",
            "0.947896 (0.006399) with: {'colsample_bytree': 1, 'gamma': 9, 'max_depth': 1, 'min_child_weight': 1, 'n_estimators': 10, 'reg_alpha': 40, 'reg_lambda': 0}\n",
            "0.947896 (0.006399) with: {'colsample_bytree': 1, 'gamma': 9, 'max_depth': 1, 'min_child_weight': 1, 'n_estimators': 10, 'reg_alpha': 40, 'reg_lambda': 1}\n",
            "0.948435 (0.005767) with: {'colsample_bytree': 1, 'gamma': 9, 'max_depth': 1, 'min_child_weight': 1, 'n_estimators': 10, 'reg_alpha': 1, 'reg_lambda': 0}\n",
            "0.948431 (0.005760) with: {'colsample_bytree': 1, 'gamma': 9, 'max_depth': 1, 'min_child_weight': 1, 'n_estimators': 10, 'reg_alpha': 1, 'reg_lambda': 1}\n"
          ]
        }
      ]
    },
    {
      "cell_type": "code",
      "source": [
        "from xgboost import XGBClassifier\n",
        "xgb = XGBClassifier(colsample_bytree=0.5, gamma=1, max_depth=3, min_child_weight=1, n_estimators=10, reg_alpha=1, reg_lambda=0)\n",
        "xgb.fit(X_train,y_train.values.ravel())\n",
        "y_pred=xgb.predict(X_test)\n",
        "\n",
        "# import the metrics class\n",
        "from sklearn import metrics\n",
        "cnf_matrix = metrics.confusion_matrix(y_test, y_pred)\n",
        "cnf_matrix"
      ],
      "metadata": {
        "colab": {
          "base_uri": "https://localhost:8080/"
        },
        "id": "8j4Myx-4qVZa",
        "outputId": "e4e27569-ce3e-4061-e13a-10cafba68357"
      },
      "execution_count": null,
      "outputs": [
        {
          "output_type": "execute_result",
          "data": {
            "text/plain": [
              "array([[ 480,  112],\n",
              "       [  83, 1316]])"
            ]
          },
          "metadata": {},
          "execution_count": 21
        }
      ]
    },
    {
      "cell_type": "code",
      "source": [
        "from sklearn.metrics import f1_score\n",
        "f1_score(y_test, y_pred, average='macro')"
      ],
      "metadata": {
        "colab": {
          "base_uri": "https://localhost:8080/"
        },
        "id": "XuoiTyj1s3_C",
        "outputId": "bb579e73-58d5-4826-993e-ffeb032166f2"
      },
      "execution_count": null,
      "outputs": [
        {
          "output_type": "execute_result",
          "data": {
            "text/plain": [
              "0.8810955581383597"
            ]
          },
          "metadata": {},
          "execution_count": 22
        }
      ]
    },
    {
      "cell_type": "code",
      "source": [
        "# pickling the model\n",
        "import pickle\n",
        "pickle_out = open(\"xgbclassifier.pkl\", \"wb\")\n",
        "pickle.dump(xgb, pickle_out)\n",
        "pickle_out.close()"
      ],
      "metadata": {
        "id": "YZZzKBa_gJpe"
      },
      "execution_count": null,
      "outputs": []
    },
    {
      "cell_type": "code",
      "source": [
        "print(\"Accuracy:\",metrics.accuracy_score(y_test, y_pred))\n",
        "print(\"Precision:\",metrics.precision_score(y_test, y_pred))\n",
        "print(\"Recall:\",metrics.recall_score(y_test, y_pred))"
      ],
      "metadata": {
        "colab": {
          "base_uri": "https://localhost:8080/"
        },
        "id": "FmQEhmKss7oS",
        "outputId": "f5e622cc-6ee4-4188-f227-3805c12adac5"
      },
      "execution_count": null,
      "outputs": [
        {
          "output_type": "stream",
          "name": "stdout",
          "text": [
            "Accuracy: 0.9020592667001507\n",
            "Precision: 0.9221598877980365\n",
            "Recall: 0.9399571122230165\n"
          ]
        }
      ]
    },
    {
      "cell_type": "markdown",
      "source": [
        "Train AUC"
      ],
      "metadata": {
        "id": "Fu7m8YWKgFev"
      }
    },
    {
      "cell_type": "code",
      "source": [
        "from sklearn import metrics\n",
        "y_pred_proba = xgb.predict_proba(X_train)[::,1]\n",
        "fpr, tpr, _ = metrics.roc_curve(y_train,  y_pred_proba)\n",
        "auc = metrics.roc_auc_score(y_train, y_pred_proba)\n",
        "plt.plot(fpr,tpr,label=\"data 1, auc=\"+str(auc))\n",
        "plt.legend(loc=4)\n",
        "plt.show()"
      ],
      "metadata": {
        "colab": {
          "base_uri": "https://localhost:8080/",
          "height": 265
        },
        "id": "LIvkz3gyfS-A",
        "outputId": "0be7e7af-17c9-42c0-d210-15e5ac17c464"
      },
      "execution_count": null,
      "outputs": [
        {
          "output_type": "display_data",
          "data": {
            "text/plain": [
              "<Figure size 432x288 with 1 Axes>"
            ],
            "image/png": "[encoded data removed]"
          },
          "metadata": {
            "needs_background": "light"
          }
        }
      ]
    },
    {
      "cell_type": "markdown",
      "source": [
        "Test AUC"
      ],
      "metadata": {
        "id": "slhvLf7EgDp_"
      }
    },
    {
      "cell_type": "code",
      "source": [
        "y_pred_proba = xgb.predict_proba(X_test)[::,1]\n",
        "fpr, tpr, _ = metrics.roc_curve(y_test,  y_pred_proba)\n",
        "auc = metrics.roc_auc_score(y_test, y_pred_proba)\n",
        "plt.plot(fpr,tpr,label=\"data 1, auc=\"+str(auc))\n",
        "plt.legend(loc=4)\n",
        "plt.show()"
      ],
      "metadata": {
        "colab": {
          "base_uri": "https://localhost:8080/",
          "height": 265
        },
        "id": "LuRXu_1h5ktz",
        "outputId": "76d415f7-0c72-49a5-fd79-5cbb5b54cc21"
      },
      "execution_count": null,
      "outputs": [
        {
          "output_type": "display_data",
          "data": {
            "text/plain": [
              "<Figure size 432x288 with 1 Axes>"
            ],
            "image/png": "[encoded data removed]"
          },
          "metadata": {
            "needs_background": "light"
          }
        }
      ]
    }
  ]
}